{
 "cells": [
  {
   "cell_type": "code",
   "execution_count": 184,
   "id": "a47d7e4f",
   "metadata": {},
   "outputs": [],
   "source": [
    "import pandas as pd\n",
    "import numpy as np\n",
    "import matplotlib.pyplot as plt\n",
    "import seaborn as sns\n",
    "import warnings\n",
    "warnings.filterwarnings(\"ignore\")"
   ]
  },
  {
   "cell_type": "code",
   "execution_count": 185,
   "id": "2772469b",
   "metadata": {},
   "outputs": [
    {
     "data": {
      "text/html": [
       "<div>\n",
       "<style scoped>\n",
       "    .dataframe tbody tr th:only-of-type {\n",
       "        vertical-align: middle;\n",
       "    }\n",
       "\n",
       "    .dataframe tbody tr th {\n",
       "        vertical-align: top;\n",
       "    }\n",
       "\n",
       "    .dataframe thead th {\n",
       "        text-align: right;\n",
       "    }\n",
       "</style>\n",
       "<table border=\"1\" class=\"dataframe\">\n",
       "  <thead>\n",
       "    <tr style=\"text-align: right;\">\n",
       "      <th></th>\n",
       "      <th>id</th>\n",
       "      <th>member_id</th>\n",
       "      <th>loan_amnt</th>\n",
       "      <th>funded_amnt</th>\n",
       "      <th>funded_amnt_inv</th>\n",
       "      <th>term</th>\n",
       "      <th>int_rate</th>\n",
       "      <th>installment</th>\n",
       "      <th>grade</th>\n",
       "      <th>sub_grade</th>\n",
       "      <th>...</th>\n",
       "      <th>num_tl_90g_dpd_24m</th>\n",
       "      <th>num_tl_op_past_12m</th>\n",
       "      <th>pct_tl_nvr_dlq</th>\n",
       "      <th>percent_bc_gt_75</th>\n",
       "      <th>pub_rec_bankruptcies</th>\n",
       "      <th>tax_liens</th>\n",
       "      <th>tot_hi_cred_lim</th>\n",
       "      <th>total_bal_ex_mort</th>\n",
       "      <th>total_bc_limit</th>\n",
       "      <th>total_il_high_credit_limit</th>\n",
       "    </tr>\n",
       "  </thead>\n",
       "  <tbody>\n",
       "    <tr>\n",
       "      <th>0</th>\n",
       "      <td>1077501</td>\n",
       "      <td>1296599</td>\n",
       "      <td>5000</td>\n",
       "      <td>5000</td>\n",
       "      <td>4975.0</td>\n",
       "      <td>36 months</td>\n",
       "      <td>10.65%</td>\n",
       "      <td>162.87</td>\n",
       "      <td>B</td>\n",
       "      <td>B2</td>\n",
       "      <td>...</td>\n",
       "      <td>NaN</td>\n",
       "      <td>NaN</td>\n",
       "      <td>NaN</td>\n",
       "      <td>NaN</td>\n",
       "      <td>0.0</td>\n",
       "      <td>0.0</td>\n",
       "      <td>NaN</td>\n",
       "      <td>NaN</td>\n",
       "      <td>NaN</td>\n",
       "      <td>NaN</td>\n",
       "    </tr>\n",
       "    <tr>\n",
       "      <th>1</th>\n",
       "      <td>1077430</td>\n",
       "      <td>1314167</td>\n",
       "      <td>2500</td>\n",
       "      <td>2500</td>\n",
       "      <td>2500.0</td>\n",
       "      <td>60 months</td>\n",
       "      <td>15.27%</td>\n",
       "      <td>59.83</td>\n",
       "      <td>C</td>\n",
       "      <td>C4</td>\n",
       "      <td>...</td>\n",
       "      <td>NaN</td>\n",
       "      <td>NaN</td>\n",
       "      <td>NaN</td>\n",
       "      <td>NaN</td>\n",
       "      <td>0.0</td>\n",
       "      <td>0.0</td>\n",
       "      <td>NaN</td>\n",
       "      <td>NaN</td>\n",
       "      <td>NaN</td>\n",
       "      <td>NaN</td>\n",
       "    </tr>\n",
       "    <tr>\n",
       "      <th>2</th>\n",
       "      <td>1077175</td>\n",
       "      <td>1313524</td>\n",
       "      <td>2400</td>\n",
       "      <td>2400</td>\n",
       "      <td>2400.0</td>\n",
       "      <td>36 months</td>\n",
       "      <td>15.96%</td>\n",
       "      <td>84.33</td>\n",
       "      <td>C</td>\n",
       "      <td>C5</td>\n",
       "      <td>...</td>\n",
       "      <td>NaN</td>\n",
       "      <td>NaN</td>\n",
       "      <td>NaN</td>\n",
       "      <td>NaN</td>\n",
       "      <td>0.0</td>\n",
       "      <td>0.0</td>\n",
       "      <td>NaN</td>\n",
       "      <td>NaN</td>\n",
       "      <td>NaN</td>\n",
       "      <td>NaN</td>\n",
       "    </tr>\n",
       "    <tr>\n",
       "      <th>3</th>\n",
       "      <td>1076863</td>\n",
       "      <td>1277178</td>\n",
       "      <td>10000</td>\n",
       "      <td>10000</td>\n",
       "      <td>10000.0</td>\n",
       "      <td>36 months</td>\n",
       "      <td>13.49%</td>\n",
       "      <td>339.31</td>\n",
       "      <td>C</td>\n",
       "      <td>C1</td>\n",
       "      <td>...</td>\n",
       "      <td>NaN</td>\n",
       "      <td>NaN</td>\n",
       "      <td>NaN</td>\n",
       "      <td>NaN</td>\n",
       "      <td>0.0</td>\n",
       "      <td>0.0</td>\n",
       "      <td>NaN</td>\n",
       "      <td>NaN</td>\n",
       "      <td>NaN</td>\n",
       "      <td>NaN</td>\n",
       "    </tr>\n",
       "    <tr>\n",
       "      <th>4</th>\n",
       "      <td>1075358</td>\n",
       "      <td>1311748</td>\n",
       "      <td>3000</td>\n",
       "      <td>3000</td>\n",
       "      <td>3000.0</td>\n",
       "      <td>60 months</td>\n",
       "      <td>12.69%</td>\n",
       "      <td>67.79</td>\n",
       "      <td>B</td>\n",
       "      <td>B5</td>\n",
       "      <td>...</td>\n",
       "      <td>NaN</td>\n",
       "      <td>NaN</td>\n",
       "      <td>NaN</td>\n",
       "      <td>NaN</td>\n",
       "      <td>0.0</td>\n",
       "      <td>0.0</td>\n",
       "      <td>NaN</td>\n",
       "      <td>NaN</td>\n",
       "      <td>NaN</td>\n",
       "      <td>NaN</td>\n",
       "    </tr>\n",
       "  </tbody>\n",
       "</table>\n",
       "<p>5 rows × 111 columns</p>\n",
       "</div>"
      ],
      "text/plain": [
       "        id  member_id  loan_amnt  funded_amnt  funded_amnt_inv        term  \\\n",
       "0  1077501    1296599       5000         5000           4975.0   36 months   \n",
       "1  1077430    1314167       2500         2500           2500.0   60 months   \n",
       "2  1077175    1313524       2400         2400           2400.0   36 months   \n",
       "3  1076863    1277178      10000        10000          10000.0   36 months   \n",
       "4  1075358    1311748       3000         3000           3000.0   60 months   \n",
       "\n",
       "  int_rate  installment grade sub_grade  ... num_tl_90g_dpd_24m  \\\n",
       "0   10.65%       162.87     B        B2  ...                NaN   \n",
       "1   15.27%        59.83     C        C4  ...                NaN   \n",
       "2   15.96%        84.33     C        C5  ...                NaN   \n",
       "3   13.49%       339.31     C        C1  ...                NaN   \n",
       "4   12.69%        67.79     B        B5  ...                NaN   \n",
       "\n",
       "  num_tl_op_past_12m pct_tl_nvr_dlq  percent_bc_gt_75 pub_rec_bankruptcies  \\\n",
       "0                NaN            NaN               NaN                  0.0   \n",
       "1                NaN            NaN               NaN                  0.0   \n",
       "2                NaN            NaN               NaN                  0.0   \n",
       "3                NaN            NaN               NaN                  0.0   \n",
       "4                NaN            NaN               NaN                  0.0   \n",
       "\n",
       "  tax_liens tot_hi_cred_lim total_bal_ex_mort total_bc_limit  \\\n",
       "0       0.0             NaN               NaN            NaN   \n",
       "1       0.0             NaN               NaN            NaN   \n",
       "2       0.0             NaN               NaN            NaN   \n",
       "3       0.0             NaN               NaN            NaN   \n",
       "4       0.0             NaN               NaN            NaN   \n",
       "\n",
       "  total_il_high_credit_limit  \n",
       "0                        NaN  \n",
       "1                        NaN  \n",
       "2                        NaN  \n",
       "3                        NaN  \n",
       "4                        NaN  \n",
       "\n",
       "[5 rows x 111 columns]"
      ]
     },
     "execution_count": 185,
     "metadata": {},
     "output_type": "execute_result"
    }
   ],
   "source": [
    "df = pd.read_csv('loan.csv')  #importing dataset using pandas\n",
    "df.head()"
   ]
  },
  {
   "cell_type": "code",
   "execution_count": 186,
   "id": "8d70c604",
   "metadata": {},
   "outputs": [
    {
     "data": {
      "text/plain": [
       "(39717, 111)"
      ]
     },
     "execution_count": 186,
     "metadata": {},
     "output_type": "execute_result"
    }
   ],
   "source": [
    "df.shape  #checking dimensions of data"
   ]
  },
  {
   "cell_type": "code",
   "execution_count": 187,
   "id": "627c5af7",
   "metadata": {},
   "outputs": [
    {
     "name": "stdout",
     "output_type": "stream",
     "text": [
      "Index(['id', 'member_id', 'loan_amnt', 'funded_amnt', 'funded_amnt_inv',\n",
      "       'term', 'int_rate', 'installment', 'grade', 'sub_grade',\n",
      "       ...\n",
      "       'num_tl_90g_dpd_24m', 'num_tl_op_past_12m', 'pct_tl_nvr_dlq',\n",
      "       'percent_bc_gt_75', 'pub_rec_bankruptcies', 'tax_liens',\n",
      "       'tot_hi_cred_lim', 'total_bal_ex_mort', 'total_bc_limit',\n",
      "       'total_il_high_credit_limit'],\n",
      "      dtype='object', length=111)\n"
     ]
    }
   ],
   "source": [
    "columns = [i.strip().lower() for i in df.columns.to_list()]  #removing white spaces and converting column names to lower case to maintain linearity\n",
    "df.columns = columns #Assigning columns back to dataframe\n",
    "print(df.columns)"
   ]
  },
  {
   "cell_type": "code",
   "execution_count": 188,
   "id": "50852267",
   "metadata": {},
   "outputs": [
    {
     "data": {
      "text/plain": [
       "id                                0\n",
       "member_id                         0\n",
       "loan_amnt                         0\n",
       "funded_amnt                       0\n",
       "funded_amnt_inv                   0\n",
       "                              ...  \n",
       "tax_liens                        39\n",
       "tot_hi_cred_lim               39717\n",
       "total_bal_ex_mort             39717\n",
       "total_bc_limit                39717\n",
       "total_il_high_credit_limit    39717\n",
       "Length: 111, dtype: int64"
      ]
     },
     "execution_count": 188,
     "metadata": {},
     "output_type": "execute_result"
    }
   ],
   "source": [
    "df.isnull().sum()  #checking null values in dataset"
   ]
  },
  {
   "cell_type": "code",
   "execution_count": 189,
   "id": "44435ead",
   "metadata": {},
   "outputs": [
    {
     "name": "stdout",
     "output_type": "stream",
     "text": [
      "<class 'pandas.core.frame.DataFrame'>\n",
      "RangeIndex: 39717 entries, 0 to 39716\n",
      "Columns: 111 entries, id to total_il_high_credit_limit\n",
      "dtypes: float64(74), int64(13), object(24)\n",
      "memory usage: 33.6+ MB\n"
     ]
    }
   ],
   "source": [
    "df.info()  #checking column datatypes and data attributes"
   ]
  },
  {
   "cell_type": "markdown",
   "id": "c2856cb9",
   "metadata": {},
   "source": [
    "#####  Consumer Attributes"
   ]
  },
  {
   "cell_type": "code",
   "execution_count": 190,
   "id": "c9b04efd",
   "metadata": {},
   "outputs": [
    {
     "data": {
      "text/html": [
       "<div>\n",
       "<style scoped>\n",
       "    .dataframe tbody tr th:only-of-type {\n",
       "        vertical-align: middle;\n",
       "    }\n",
       "\n",
       "    .dataframe tbody tr th {\n",
       "        vertical-align: top;\n",
       "    }\n",
       "\n",
       "    .dataframe thead th {\n",
       "        text-align: right;\n",
       "    }\n",
       "</style>\n",
       "<table border=\"1\" class=\"dataframe\">\n",
       "  <thead>\n",
       "    <tr style=\"text-align: right;\">\n",
       "      <th></th>\n",
       "      <th>id</th>\n",
       "      <th>member_id</th>\n",
       "      <th>emp_title</th>\n",
       "      <th>emp_length</th>\n",
       "      <th>home_ownership</th>\n",
       "      <th>annual_inc</th>\n",
       "      <th>zip_code</th>\n",
       "      <th>addr_state</th>\n",
       "      <th>loan_status</th>\n",
       "    </tr>\n",
       "  </thead>\n",
       "  <tbody>\n",
       "    <tr>\n",
       "      <th>0</th>\n",
       "      <td>1077501</td>\n",
       "      <td>1296599</td>\n",
       "      <td>NaN</td>\n",
       "      <td>10+ years</td>\n",
       "      <td>RENT</td>\n",
       "      <td>24000.0</td>\n",
       "      <td>860xx</td>\n",
       "      <td>AZ</td>\n",
       "      <td>Fully Paid</td>\n",
       "    </tr>\n",
       "    <tr>\n",
       "      <th>1</th>\n",
       "      <td>1077430</td>\n",
       "      <td>1314167</td>\n",
       "      <td>Ryder</td>\n",
       "      <td>&lt; 1 year</td>\n",
       "      <td>RENT</td>\n",
       "      <td>30000.0</td>\n",
       "      <td>309xx</td>\n",
       "      <td>GA</td>\n",
       "      <td>Charged Off</td>\n",
       "    </tr>\n",
       "    <tr>\n",
       "      <th>2</th>\n",
       "      <td>1077175</td>\n",
       "      <td>1313524</td>\n",
       "      <td>NaN</td>\n",
       "      <td>10+ years</td>\n",
       "      <td>RENT</td>\n",
       "      <td>12252.0</td>\n",
       "      <td>606xx</td>\n",
       "      <td>IL</td>\n",
       "      <td>Fully Paid</td>\n",
       "    </tr>\n",
       "    <tr>\n",
       "      <th>3</th>\n",
       "      <td>1076863</td>\n",
       "      <td>1277178</td>\n",
       "      <td>AIR RESOURCES BOARD</td>\n",
       "      <td>10+ years</td>\n",
       "      <td>RENT</td>\n",
       "      <td>49200.0</td>\n",
       "      <td>917xx</td>\n",
       "      <td>CA</td>\n",
       "      <td>Fully Paid</td>\n",
       "    </tr>\n",
       "    <tr>\n",
       "      <th>4</th>\n",
       "      <td>1075358</td>\n",
       "      <td>1311748</td>\n",
       "      <td>University Medical Group</td>\n",
       "      <td>1 year</td>\n",
       "      <td>RENT</td>\n",
       "      <td>80000.0</td>\n",
       "      <td>972xx</td>\n",
       "      <td>OR</td>\n",
       "      <td>Current</td>\n",
       "    </tr>\n",
       "  </tbody>\n",
       "</table>\n",
       "</div>"
      ],
      "text/plain": [
       "        id  member_id                 emp_title emp_length home_ownership  \\\n",
       "0  1077501    1296599                       NaN  10+ years           RENT   \n",
       "1  1077430    1314167                     Ryder   < 1 year           RENT   \n",
       "2  1077175    1313524                       NaN  10+ years           RENT   \n",
       "3  1076863    1277178       AIR RESOURCES BOARD  10+ years           RENT   \n",
       "4  1075358    1311748  University Medical Group     1 year           RENT   \n",
       "\n",
       "   annual_inc zip_code addr_state  loan_status  \n",
       "0     24000.0    860xx         AZ   Fully Paid  \n",
       "1     30000.0    309xx         GA  Charged Off  \n",
       "2     12252.0    606xx         IL   Fully Paid  \n",
       "3     49200.0    917xx         CA   Fully Paid  \n",
       "4     80000.0    972xx         OR      Current  "
      ]
     },
     "execution_count": 190,
     "metadata": {},
     "output_type": "execute_result"
    }
   ],
   "source": [
    "#filtering consumer related attributes\n",
    "df_consumer = df[['id','member_id','emp_title','emp_length','home_ownership','annual_inc','zip_code','addr_state','loan_status']]\n",
    "df_consumer.head()"
   ]
  },
  {
   "cell_type": "code",
   "execution_count": 191,
   "id": "bd63c5e8",
   "metadata": {},
   "outputs": [
    {
     "data": {
      "text/plain": [
       "1296599    1\n",
       "731393     1\n",
       "731544     1\n",
       "729629     1\n",
       "731390     1\n",
       "          ..\n",
       "989001     1\n",
       "988993     1\n",
       "988959     1\n",
       "988954     1\n",
       "86999      1\n",
       "Name: member_id, Length: 39717, dtype: int64"
      ]
     },
     "execution_count": 191,
     "metadata": {},
     "output_type": "execute_result"
    }
   ],
   "source": [
    "df_consumer['member_id'].value_counts()  #checking duplicate entries of any consumer"
   ]
  },
  {
   "cell_type": "code",
   "execution_count": 192,
   "id": "640c9eee",
   "metadata": {},
   "outputs": [
    {
     "data": {
      "text/plain": [
       "id                   0\n",
       "member_id            0\n",
       "emp_title         2459\n",
       "emp_length        1075\n",
       "home_ownership       0\n",
       "annual_inc           0\n",
       "zip_code             0\n",
       "addr_state           0\n",
       "loan_status          0\n",
       "dtype: int64"
      ]
     },
     "execution_count": 192,
     "metadata": {},
     "output_type": "execute_result"
    }
   ],
   "source": [
    "df_consumer.isnull().sum()  #checking null values in consumer attributes data"
   ]
  },
  {
   "cell_type": "code",
   "execution_count": 193,
   "id": "0aa2906f",
   "metadata": {},
   "outputs": [
    {
     "data": {
      "text/plain": [
       "(39717, 9)"
      ]
     },
     "execution_count": 193,
     "metadata": {},
     "output_type": "execute_result"
    }
   ],
   "source": [
    "df_consumer.shape"
   ]
  },
  {
   "cell_type": "code",
   "execution_count": 194,
   "id": "1ec41e34",
   "metadata": {},
   "outputs": [
    {
     "data": {
      "text/plain": [
       "(37202, 9)"
      ]
     },
     "execution_count": 194,
     "metadata": {},
     "output_type": "execute_result"
    }
   ],
   "source": [
    "df_consumer.dropna(inplace = True)  #Removinf NaN values from data\n",
    "df_consumer.shape"
   ]
  },
  {
   "cell_type": "code",
   "execution_count": 195,
   "id": "e3b0907e",
   "metadata": {},
   "outputs": [
    {
     "data": {
      "text/plain": [
       "US Army                              134\n",
       "Bank of America                      109\n",
       "IBM                                   66\n",
       "AT&T                                  59\n",
       "Kaiser Permanente                     56\n",
       "                                    ... \n",
       "Avian Realty                           1\n",
       "American Energy                        1\n",
       "BASF Chemical Company                  1\n",
       "Crown-Kerasotes Show-ASI Security      1\n",
       "Evergreen Center                       1\n",
       "Name: emp_title, Length: 28775, dtype: int64"
      ]
     },
     "execution_count": 195,
     "metadata": {},
     "output_type": "execute_result"
    }
   ],
   "source": [
    "df_consumer['emp_title'].value_counts().sort_values(ascending = False)  #checking emp_title distribution in data"
   ]
  },
  {
   "cell_type": "code",
   "execution_count": 196,
   "id": "b7bf570a",
   "metadata": {},
   "outputs": [
    {
     "data": {
      "text/plain": [
       "Fully Paid     31005\n",
       "Charged Off     5131\n",
       "Current         1066\n",
       "Name: loan_status, dtype: int64"
      ]
     },
     "execution_count": 196,
     "metadata": {},
     "output_type": "execute_result"
    }
   ],
   "source": [
    "df_consumer['loan_status'].value_counts()  #checking the loan status distribution"
   ]
  },
  {
   "cell_type": "code",
   "execution_count": 197,
   "id": "e3ce30d6",
   "metadata": {},
   "outputs": [],
   "source": [
    "def bar_chart_counts(x,column):\n",
    "    \n",
    "    plt.figure(figsize=(10,5))               #To plot bar charts\n",
    "    x.plot(kind = 'bar')\n",
    "    plt.xlabel(column)\n",
    "    plt.ylabel('loan status counts')\n",
    "    plt.title('loan_status Distribution')\n",
    "    plt.show()"
   ]
  },
  {
   "cell_type": "code",
   "execution_count": 198,
   "id": "354015ee",
   "metadata": {},
   "outputs": [],
   "source": [
    "def stacked_chart(df,col1,col2):\n",
    "                                         #To plot stacked charts\n",
    "    df.groupby([col1])[col2].value_counts().unstack().plot(kind = 'bar', stacked = True, figsize = (20,10))\n",
    "    \n",
    "    return"
   ]
  },
  {
   "cell_type": "code",
   "execution_count": 199,
   "id": "dd08ba50",
   "metadata": {},
   "outputs": [
    {
     "data": {
      "image/png": "[encoded data removed]",
      "text/plain": [
       "<Figure size 720x360 with 1 Axes>"
      ]
     },
     "metadata": {
      "needs_background": "light"
     },
     "output_type": "display_data"
    }
   ],
   "source": [
    "x = df_consumer['loan_status'].value_counts().sort_values(ascending = False)\n",
    "bar_chart_counts(x,'loan_status')"
   ]
  },
  {
   "cell_type": "markdown",
   "id": "6b0884ae",
   "metadata": {},
   "source": [
    "As we can see from the bar chart that fully paid consumers are more than charged off followed by current"
   ]
  },
  {
   "cell_type": "markdown",
   "id": "c58d8c36",
   "metadata": {},
   "source": [
    "##### Consumer Attributes vs Charged Off Analysis"
   ]
  },
  {
   "cell_type": "code",
   "execution_count": 200,
   "id": "606c8097",
   "metadata": {},
   "outputs": [
    {
     "data": {
      "text/html": [
       "<div>\n",
       "<style scoped>\n",
       "    .dataframe tbody tr th:only-of-type {\n",
       "        vertical-align: middle;\n",
       "    }\n",
       "\n",
       "    .dataframe tbody tr th {\n",
       "        vertical-align: top;\n",
       "    }\n",
       "\n",
       "    .dataframe thead th {\n",
       "        text-align: right;\n",
       "    }\n",
       "</style>\n",
       "<table border=\"1\" class=\"dataframe\">\n",
       "  <thead>\n",
       "    <tr style=\"text-align: right;\">\n",
       "      <th></th>\n",
       "      <th>id</th>\n",
       "      <th>member_id</th>\n",
       "      <th>emp_title</th>\n",
       "      <th>emp_length</th>\n",
       "      <th>home_ownership</th>\n",
       "      <th>annual_inc</th>\n",
       "      <th>zip_code</th>\n",
       "      <th>addr_state</th>\n",
       "      <th>loan_status</th>\n",
       "    </tr>\n",
       "  </thead>\n",
       "  <tbody>\n",
       "    <tr>\n",
       "      <th>0</th>\n",
       "      <td>1077430</td>\n",
       "      <td>1314167</td>\n",
       "      <td>Ryder</td>\n",
       "      <td>&lt; 1 year</td>\n",
       "      <td>RENT</td>\n",
       "      <td>30000.0</td>\n",
       "      <td>309xx</td>\n",
       "      <td>GA</td>\n",
       "      <td>Charged Off</td>\n",
       "    </tr>\n",
       "    <tr>\n",
       "      <th>1</th>\n",
       "      <td>1071570</td>\n",
       "      <td>1306721</td>\n",
       "      <td>Starbucks</td>\n",
       "      <td>&lt; 1 year</td>\n",
       "      <td>RENT</td>\n",
       "      <td>15000.0</td>\n",
       "      <td>774xx</td>\n",
       "      <td>TX</td>\n",
       "      <td>Charged Off</td>\n",
       "    </tr>\n",
       "    <tr>\n",
       "      <th>2</th>\n",
       "      <td>1064687</td>\n",
       "      <td>1298717</td>\n",
       "      <td>Va. Dept of Conservation/Recreation</td>\n",
       "      <td>&lt; 1 year</td>\n",
       "      <td>RENT</td>\n",
       "      <td>30000.0</td>\n",
       "      <td>245xx</td>\n",
       "      <td>VA</td>\n",
       "      <td>Charged Off</td>\n",
       "    </tr>\n",
       "    <tr>\n",
       "      <th>3</th>\n",
       "      <td>1069057</td>\n",
       "      <td>1303503</td>\n",
       "      <td>SFMTA</td>\n",
       "      <td>3 years</td>\n",
       "      <td>RENT</td>\n",
       "      <td>100000.0</td>\n",
       "      <td>951xx</td>\n",
       "      <td>CA</td>\n",
       "      <td>Charged Off</td>\n",
       "    </tr>\n",
       "    <tr>\n",
       "      <th>4</th>\n",
       "      <td>1039153</td>\n",
       "      <td>1269083</td>\n",
       "      <td>Osram Sylvania</td>\n",
       "      <td>10+ years</td>\n",
       "      <td>RENT</td>\n",
       "      <td>105000.0</td>\n",
       "      <td>335xx</td>\n",
       "      <td>FL</td>\n",
       "      <td>Charged Off</td>\n",
       "    </tr>\n",
       "  </tbody>\n",
       "</table>\n",
       "</div>"
      ],
      "text/plain": [
       "        id  member_id                            emp_title emp_length  \\\n",
       "0  1077430    1314167                                Ryder   < 1 year   \n",
       "1  1071570    1306721                            Starbucks   < 1 year   \n",
       "2  1064687    1298717  Va. Dept of Conservation/Recreation   < 1 year   \n",
       "3  1069057    1303503                                SFMTA    3 years   \n",
       "4  1039153    1269083                       Osram Sylvania  10+ years   \n",
       "\n",
       "  home_ownership  annual_inc zip_code addr_state  loan_status  \n",
       "0           RENT     30000.0    309xx         GA  Charged Off  \n",
       "1           RENT     15000.0    774xx         TX  Charged Off  \n",
       "2           RENT     30000.0    245xx         VA  Charged Off  \n",
       "3           RENT    100000.0    951xx         CA  Charged Off  \n",
       "4           RENT    105000.0    335xx         FL  Charged Off  "
      ]
     },
     "execution_count": 200,
     "metadata": {},
     "output_type": "execute_result"
    }
   ],
   "source": [
    "#charged off consumers\n",
    "\n",
    "df_ch_off = df_consumer[df_consumer['loan_status']=='Charged Off']\n",
    "df_ch_off.reset_index(drop = True, inplace = True)\n",
    "df_ch_off.head()"
   ]
  },
  {
   "cell_type": "code",
   "execution_count": 201,
   "id": "a065915b",
   "metadata": {},
   "outputs": [],
   "source": [
    "top_10_cons_ch_off = df_ch_off['emp_title'].value_counts().sort_values(ascending = False)[:10]\n",
    "#top 10 charged off consumers with emp title"
   ]
  },
  {
   "cell_type": "code",
   "execution_count": 202,
   "id": "c9f89c92",
   "metadata": {},
   "outputs": [
    {
     "data": {
      "image/png": "[encoded data removed]",
      "text/plain": [
       "<Figure size 720x360 with 1 Axes>"
      ]
     },
     "metadata": {
      "needs_background": "light"
     },
     "output_type": "display_data"
    }
   ],
   "source": [
    "bar_chart_counts(top_10_cons_ch_off,'emp_title')"
   ]
  },
  {
   "cell_type": "markdown",
   "id": "2c56bfee",
   "metadata": {},
   "source": [
    "The distribution clearly states that in charged off consumer most of the consumers belong to Bank of America. These are top 10 consumers in charged off segment."
   ]
  },
  {
   "cell_type": "markdown",
   "id": "bed64c40",
   "metadata": {},
   "source": [
    "###### emp_length vs Charged off"
   ]
  },
  {
   "cell_type": "code",
   "execution_count": 203,
   "id": "f05517c4",
   "metadata": {},
   "outputs": [
    {
     "data": {
      "text/html": [
       "<div>\n",
       "<style scoped>\n",
       "    .dataframe tbody tr th:only-of-type {\n",
       "        vertical-align: middle;\n",
       "    }\n",
       "\n",
       "    .dataframe tbody tr th {\n",
       "        vertical-align: top;\n",
       "    }\n",
       "\n",
       "    .dataframe thead th {\n",
       "        text-align: right;\n",
       "    }\n",
       "</style>\n",
       "<table border=\"1\" class=\"dataframe\">\n",
       "  <thead>\n",
       "    <tr style=\"text-align: right;\">\n",
       "      <th></th>\n",
       "      <th>id</th>\n",
       "      <th>member_id</th>\n",
       "      <th>emp_title</th>\n",
       "      <th>emp_length</th>\n",
       "      <th>home_ownership</th>\n",
       "      <th>annual_inc</th>\n",
       "      <th>zip_code</th>\n",
       "      <th>addr_state</th>\n",
       "      <th>loan_status</th>\n",
       "    </tr>\n",
       "  </thead>\n",
       "  <tbody>\n",
       "    <tr>\n",
       "      <th>0</th>\n",
       "      <td>1077430</td>\n",
       "      <td>1314167</td>\n",
       "      <td>Ryder</td>\n",
       "      <td>&lt; 1 year</td>\n",
       "      <td>RENT</td>\n",
       "      <td>30000.0</td>\n",
       "      <td>309xx</td>\n",
       "      <td>GA</td>\n",
       "      <td>Charged Off</td>\n",
       "    </tr>\n",
       "    <tr>\n",
       "      <th>1</th>\n",
       "      <td>1071570</td>\n",
       "      <td>1306721</td>\n",
       "      <td>Starbucks</td>\n",
       "      <td>&lt; 1 year</td>\n",
       "      <td>RENT</td>\n",
       "      <td>15000.0</td>\n",
       "      <td>774xx</td>\n",
       "      <td>TX</td>\n",
       "      <td>Charged Off</td>\n",
       "    </tr>\n",
       "    <tr>\n",
       "      <th>2</th>\n",
       "      <td>1064687</td>\n",
       "      <td>1298717</td>\n",
       "      <td>Va. Dept of Conservation/Recreation</td>\n",
       "      <td>&lt; 1 year</td>\n",
       "      <td>RENT</td>\n",
       "      <td>30000.0</td>\n",
       "      <td>245xx</td>\n",
       "      <td>VA</td>\n",
       "      <td>Charged Off</td>\n",
       "    </tr>\n",
       "    <tr>\n",
       "      <th>3</th>\n",
       "      <td>1069057</td>\n",
       "      <td>1303503</td>\n",
       "      <td>SFMTA</td>\n",
       "      <td>3 years</td>\n",
       "      <td>RENT</td>\n",
       "      <td>100000.0</td>\n",
       "      <td>951xx</td>\n",
       "      <td>CA</td>\n",
       "      <td>Charged Off</td>\n",
       "    </tr>\n",
       "    <tr>\n",
       "      <th>4</th>\n",
       "      <td>1039153</td>\n",
       "      <td>1269083</td>\n",
       "      <td>Osram Sylvania</td>\n",
       "      <td>10+ years</td>\n",
       "      <td>RENT</td>\n",
       "      <td>105000.0</td>\n",
       "      <td>335xx</td>\n",
       "      <td>FL</td>\n",
       "      <td>Charged Off</td>\n",
       "    </tr>\n",
       "  </tbody>\n",
       "</table>\n",
       "</div>"
      ],
      "text/plain": [
       "        id  member_id                            emp_title emp_length  \\\n",
       "0  1077430    1314167                                Ryder   < 1 year   \n",
       "1  1071570    1306721                            Starbucks   < 1 year   \n",
       "2  1064687    1298717  Va. Dept of Conservation/Recreation   < 1 year   \n",
       "3  1069057    1303503                                SFMTA    3 years   \n",
       "4  1039153    1269083                       Osram Sylvania  10+ years   \n",
       "\n",
       "  home_ownership  annual_inc zip_code addr_state  loan_status  \n",
       "0           RENT     30000.0    309xx         GA  Charged Off  \n",
       "1           RENT     15000.0    774xx         TX  Charged Off  \n",
       "2           RENT     30000.0    245xx         VA  Charged Off  \n",
       "3           RENT    100000.0    951xx         CA  Charged Off  \n",
       "4           RENT    105000.0    335xx         FL  Charged Off  "
      ]
     },
     "execution_count": 203,
     "metadata": {},
     "output_type": "execute_result"
    }
   ],
   "source": [
    "df_emp_length  = df_ch_off[~(df_ch_off['emp_length'].isnull())]\n",
    "df_emp_length.head()"
   ]
  },
  {
   "cell_type": "code",
   "execution_count": 204,
   "id": "cbfe2816",
   "metadata": {},
   "outputs": [],
   "source": [
    "emp_length_charged_off = df_emp_length['emp_length'].value_counts().sort_values(ascending = False)"
   ]
  },
  {
   "cell_type": "code",
   "execution_count": 205,
   "id": "a5e42e1e",
   "metadata": {},
   "outputs": [
    {
     "data": {
      "image/png": "[encoded data removed]",
      "text/plain": [
       "<Figure size 720x360 with 1 Axes>"
      ]
     },
     "metadata": {
      "needs_background": "light"
     },
     "output_type": "display_data"
    }
   ],
   "source": [
    "bar_chart_counts(emp_length_charged_off,'emp_length')"
   ]
  },
  {
   "cell_type": "markdown",
   "id": "912513b8",
   "metadata": {},
   "source": [
    "As we can see that consumers who are having more than 10+ years of experience are having more charged off than consumers who are having less years of experience."
   ]
  },
  {
   "cell_type": "code",
   "execution_count": 206,
   "id": "554e1b20",
   "metadata": {},
   "outputs": [
    {
     "data": {
      "text/plain": [
       "array(['RENT', 'MORTGAGE', 'OWN', 'OTHER'], dtype=object)"
      ]
     },
     "execution_count": 206,
     "metadata": {},
     "output_type": "execute_result"
    }
   ],
   "source": [
    "df_emp_length['home_ownership'].unique()  # Checking the unique values in home ownership"
   ]
  },
  {
   "cell_type": "markdown",
   "id": "b33cdba8",
   "metadata": {},
   "source": [
    "##### Bi-variate analysis"
   ]
  },
  {
   "cell_type": "code",
   "execution_count": 207,
   "id": "d361d88e",
   "metadata": {},
   "outputs": [
    {
     "data": {
      "image/png": "[encoded data removed]",
      "text/plain": [
       "<Figure size 1440x720 with 1 Axes>"
      ]
     },
     "metadata": {
      "needs_background": "light"
     },
     "output_type": "display_data"
    }
   ],
   "source": [
    "stacked_chart(df_emp_length,'emp_length','home_ownership')\n",
    "plt.title('emp_length vs home_ownership')\n",
    "plt.ylabel('Count of home_ownership')\n",
    "plt.show()"
   ]
  },
  {
   "cell_type": "markdown",
   "id": "486d9010",
   "metadata": {},
   "source": [
    "As we can see that in 10+ years of employment length people are more into mortgage. Also we can observe from the stacked chart, we can see that most of the consumers below 10 years are on rent. So, can we see that in 10+ years of experience which are more into charged off depending upon the home_ownership?"
   ]
  },
  {
   "cell_type": "code",
   "execution_count": 208,
   "id": "d9aaab20",
   "metadata": {},
   "outputs": [
    {
     "data": {
      "text/plain": [
       "array(['< 1 year', '3 years', '10+ years', '1 year', '9 years', '2 years',\n",
       "       '8 years', '4 years', '7 years', '5 years', '6 years'],\n",
       "      dtype=object)"
      ]
     },
     "execution_count": 208,
     "metadata": {},
     "output_type": "execute_result"
    }
   ],
   "source": [
    "df_emp_length['emp_length'].unique()  #checking unique values in emp_length"
   ]
  },
  {
   "cell_type": "code",
   "execution_count": 209,
   "id": "edf2dfe9",
   "metadata": {},
   "outputs": [
    {
     "data": {
      "image/png": "[encoded data removed]",
      "text/plain": [
       "<Figure size 720x360 with 1 Axes>"
      ]
     },
     "metadata": {
      "needs_background": "light"
     },
     "output_type": "display_data"
    }
   ],
   "source": [
    "#consumer with emp_length 10+ years\n",
    "\n",
    "df_10 = df_emp_length[df_emp_length['emp_length']=='10+ years']\n",
    "x = df_10['home_ownership'].value_counts().sort_values(ascending = False)\n",
    "bar_chart_counts(x,'home_ownership')"
   ]
  },
  {
   "cell_type": "markdown",
   "id": "51264709",
   "metadata": {},
   "source": [
    "As we can see from our analysis that in 10+ years of employment length, consumer in mortgage are mostly charged off followed by consumers on rent.This can be one factor when providing loans to consumer to check if they belong to 10+ years of experience they must not come in Mortgage otherwise on rent as well and provide low value loan or no loan to those type of consumers."
   ]
  },
  {
   "cell_type": "code",
   "execution_count": 210,
   "id": "7662db8e",
   "metadata": {},
   "outputs": [
    {
     "data": {
      "image/png": "[encoded data removed]",
      "text/plain": [
       "<Figure size 720x360 with 1 Axes>"
      ]
     },
     "metadata": {
      "needs_background": "light"
     },
     "output_type": "display_data"
    }
   ],
   "source": [
    "#consumer with emp_length < 1 year\n",
    "df_less_than_1_yr = df_emp_length[df_emp_length['emp_length']=='< 1 year']\n",
    "x = df_less_than_1_yr['home_ownership'].value_counts().sort_values(ascending = False)\n",
    "bar_chart_counts(x,'home_ownership')"
   ]
  },
  {
   "cell_type": "markdown",
   "id": "51405434",
   "metadata": {},
   "source": [
    "As we can see from our analysis that in employment length <1 year, consumer in rent are mostly charged off followed by consumers on mortgage.This can be one factor when providing loans to consumer to check if they belong to experience <1 year they must not come in rent and provide low value loan or no loan to those type of consumers."
   ]
  },
  {
   "cell_type": "code",
   "execution_count": 211,
   "id": "8df30142",
   "metadata": {},
   "outputs": [
    {
     "data": {
      "image/png": "[encoded data removed]",
      "text/plain": [
       "<Figure size 720x360 with 1 Axes>"
      ]
     },
     "metadata": {
      "needs_background": "light"
     },
     "output_type": "display_data"
    }
   ],
   "source": [
    "#consumer with emp_length = 1 year\n",
    "\n",
    "df_1_yr = df_emp_length[df_emp_length['emp_length']=='1 year']\n",
    "x = df_1_yr['home_ownership'].value_counts().sort_values(ascending = False)\n",
    "bar_chart_counts(x,'home_ownership')"
   ]
  },
  {
   "cell_type": "markdown",
   "id": "6a92491b",
   "metadata": {},
   "source": [
    "As we can see from our analysis that in employmeny length =1 year, consumer in rent are mostly charged off followed by consumers on mortgage.This can be one factor when providing loans to consumer to check if they belong to experience =1 year they must not come in rent and provide low value loan or no loan to those type of consumers whereas for mortgage small amount of loan may be possible on higher interest rate for good business."
   ]
  },
  {
   "cell_type": "code",
   "execution_count": 212,
   "id": "4f157494",
   "metadata": {},
   "outputs": [
    {
     "data": {
      "image/png": "[encoded data removed]",
      "text/plain": [
       "<Figure size 720x360 with 1 Axes>"
      ]
     },
     "metadata": {
      "needs_background": "light"
     },
     "output_type": "display_data"
    }
   ],
   "source": [
    "#consumer with emp_length = 2 years\n",
    "\n",
    "df_2_yr = df_emp_length[df_emp_length['emp_length']=='2 years']\n",
    "x = df_2_yr['home_ownership'].value_counts().sort_values(ascending = False)\n",
    "bar_chart_counts(x,'home_ownership')"
   ]
  },
  {
   "cell_type": "markdown",
   "id": "d4d19154",
   "metadata": {},
   "source": [
    "As we can see from our analysis that in employmeny length =2 year, consumer in rent are mostly charged off followed by consumers on mortgage.This can be one factor when providing loans to consumer to check if they belong to experience =2 year they must not come in rent and provide low value loan or no loan to those type of consumers whereas for mortgage small amount of loan may be possible on higher interest rate for good business."
   ]
  },
  {
   "cell_type": "code",
   "execution_count": 213,
   "id": "0cefac5f",
   "metadata": {},
   "outputs": [
    {
     "data": {
      "image/png": "[encoded data removed]",
      "text/plain": [
       "<Figure size 720x360 with 1 Axes>"
      ]
     },
     "metadata": {
      "needs_background": "light"
     },
     "output_type": "display_data"
    }
   ],
   "source": [
    "#consumer with emp_length = 3 years\n",
    "\n",
    "df_3_yr = df_emp_length[df_emp_length['emp_length']=='3 years']\n",
    "x = df_3_yr['home_ownership'].value_counts().sort_values(ascending = False)\n",
    "bar_chart_counts(x,'home_ownership')"
   ]
  },
  {
   "cell_type": "markdown",
   "id": "768f61ea",
   "metadata": {},
   "source": [
    "As we can see from our analysis that in employmeny length =3 years, consumer in rent are mostly charged off followed by consumers on mortgage.This can be one factor when providing loans to consumer to check if they belong to experience =3 years they must not come in rent and provide low value loan or no loan to those type of consumers whereas for mortgage small amount of loan may be possible on higher interest rate for good business."
   ]
  },
  {
   "cell_type": "code",
   "execution_count": 214,
   "id": "830f950b",
   "metadata": {},
   "outputs": [
    {
     "data": {
      "image/png": "[encoded data removed]",
      "text/plain": [
       "<Figure size 720x360 with 1 Axes>"
      ]
     },
     "metadata": {
      "needs_background": "light"
     },
     "output_type": "display_data"
    }
   ],
   "source": [
    "#consumer with emp_length = 4 years\n",
    "\n",
    "df_4_yr = df_emp_length[df_emp_length['emp_length']=='4 years']\n",
    "x = df_4_yr['home_ownership'].value_counts().sort_values(ascending = False)\n",
    "bar_chart_counts(x,'home_ownership')"
   ]
  },
  {
   "cell_type": "markdown",
   "id": "b87baade",
   "metadata": {},
   "source": [
    "As we can see from our analysis that in employmeny length =4 years, consumer in rent are mostly charged off followed by consumers on mortgage.This can be one factor when providing loans to consumer to check if they belong to experience =4 years they must not come in rent and provide low value loan or no loan to those type of consumers whereas for mortgage small amount of loan may be possible on higher interest rate for good business."
   ]
  },
  {
   "cell_type": "code",
   "execution_count": 215,
   "id": "1249bf3c",
   "metadata": {},
   "outputs": [
    {
     "data": {
      "image/png": "[encoded data removed]",
      "text/plain": [
       "<Figure size 720x360 with 1 Axes>"
      ]
     },
     "metadata": {
      "needs_background": "light"
     },
     "output_type": "display_data"
    }
   ],
   "source": [
    "#consumer with emp_length = 5 years\n",
    "\n",
    "df_5_yr = df_emp_length[df_emp_length['emp_length']=='5 years']\n",
    "x = df_5_yr['home_ownership'].value_counts().sort_values(ascending = False)\n",
    "bar_chart_counts(x,'home_ownership')"
   ]
  },
  {
   "cell_type": "markdown",
   "id": "9d73c157",
   "metadata": {},
   "source": [
    "As we can see from our analysis that in employment length =5 year, consumer in rent are mostly charged off followed by consumers on mortgage.This can be one factor when providing loans to consumer to check if they belong to experience =5 year they must not come in rent or mortgage to avail loan from LC."
   ]
  },
  {
   "cell_type": "code",
   "execution_count": 216,
   "id": "174a56b1",
   "metadata": {},
   "outputs": [
    {
     "data": {
      "image/png": "[encoded data removed]",
      "text/plain": [
       "<Figure size 720x360 with 1 Axes>"
      ]
     },
     "metadata": {
      "needs_background": "light"
     },
     "output_type": "display_data"
    }
   ],
   "source": [
    "#consumer with emp_length = 6 years\n",
    "\n",
    "df_6_yr = df_emp_length[df_emp_length['emp_length']=='6 years']\n",
    "x = df_6_yr['home_ownership'].value_counts().sort_values(ascending = False)\n",
    "bar_chart_counts(x,'home_ownership')"
   ]
  },
  {
   "cell_type": "markdown",
   "id": "92ad68bb",
   "metadata": {},
   "source": [
    "As we can see from our analysis that in employment length =6 years, consumer in rent are mostly charged off followed by consumers on mortgage.This can be one factor when providing loans to consumer to check if they belong to experience =6 years they must not come in rent or mortgage to avail loan from LC."
   ]
  },
  {
   "cell_type": "code",
   "execution_count": 217,
   "id": "ca7b61f5",
   "metadata": {},
   "outputs": [
    {
     "data": {
      "image/png": "[encoded data removed]",
      "text/plain": [
       "<Figure size 720x360 with 1 Axes>"
      ]
     },
     "metadata": {
      "needs_background": "light"
     },
     "output_type": "display_data"
    }
   ],
   "source": [
    "#consumer with emp_length = 7 years\n",
    "\n",
    "df_7_yr = df_emp_length[df_emp_length['emp_length']=='7 years']\n",
    "x = df_7_yr['home_ownership'].value_counts().sort_values(ascending = False)\n",
    "bar_chart_counts(x,'home_ownership')"
   ]
  },
  {
   "cell_type": "code",
   "execution_count": 218,
   "id": "630a7369",
   "metadata": {},
   "outputs": [
    {
     "data": {
      "image/png": "[encoded data removed]",
      "text/plain": [
       "<Figure size 720x360 with 1 Axes>"
      ]
     },
     "metadata": {
      "needs_background": "light"
     },
     "output_type": "display_data"
    }
   ],
   "source": [
    "#consumer with emp_length = 8 years\n",
    "\n",
    "df_8_yr = df_emp_length[df_emp_length['emp_length']=='8 years']\n",
    "x = df_8_yr['home_ownership'].value_counts().sort_values(ascending = False)\n",
    "bar_chart_counts(x,'home_ownership')"
   ]
  },
  {
   "cell_type": "code",
   "execution_count": 219,
   "id": "724bcb7b",
   "metadata": {},
   "outputs": [
    {
     "data": {
      "image/png": "[encoded data removed]",
      "text/plain": [
       "<Figure size 720x360 with 1 Axes>"
      ]
     },
     "metadata": {
      "needs_background": "light"
     },
     "output_type": "display_data"
    }
   ],
   "source": [
    "#consumer with emp_length = 9 years\n",
    "\n",
    "df_9_yr = df_emp_length[df_emp_length['emp_length']=='9 years']\n",
    "x = df_9_yr['home_ownership'].value_counts().sort_values(ascending = False)\n",
    "bar_chart_counts(x,'home_ownership')"
   ]
  },
  {
   "cell_type": "markdown",
   "id": "8e07f342",
   "metadata": {},
   "source": [
    "As we can see from 7,8 ,9 years of emp length charts that as the emp length is increasing consumers are generally started to fall in mortgage segment. Hence, we can conclude that consumers with higher experience should not fall in mortgage to avail loan from LC."
   ]
  },
  {
   "cell_type": "markdown",
   "id": "9ed9bee9",
   "metadata": {},
   "source": [
    "##### Home Ownership vs Loan status"
   ]
  },
  {
   "cell_type": "code",
   "execution_count": 220,
   "id": "3a8932e3",
   "metadata": {},
   "outputs": [
    {
     "data": {
      "image/png": "[encoded data removed]",
      "text/plain": [
       "<Figure size 1440x720 with 1 Axes>"
      ]
     },
     "metadata": {
      "needs_background": "light"
     },
     "output_type": "display_data"
    }
   ],
   "source": [
    "stacked_chart(df_consumer,'home_ownership','loan_status')\n",
    "plt.legend(loc = 'center')\n",
    "plt.title('home_ownership vs loan_status\\n')\n",
    "plt.ylabel('Count of home_ownership')\n",
    "plt.show()"
   ]
  },
  {
   "cell_type": "markdown",
   "id": "b02b465b",
   "metadata": {},
   "source": [
    "As we can see that Fully Paid & charged off are more in mortgage and rent home ownerrship, but as we saw above that home_ownership and emp_length are both driving factor from consumer attributes point of view. Hence, we should consider emp_length along with home_ownership to offer loans to consumers."
   ]
  },
  {
   "cell_type": "markdown",
   "id": "f2d3d9ef",
   "metadata": {},
   "source": [
    "##### Annual Income vs loan status"
   ]
  },
  {
   "cell_type": "code",
   "execution_count": 221,
   "id": "57eabb61",
   "metadata": {},
   "outputs": [
    {
     "name": "stdout",
     "output_type": "stream",
     "text": [
      "id                    0\n",
      "member_id             0\n",
      "emp_title             0\n",
      "emp_length            0\n",
      "home_ownership        0\n",
      "annual_inc            0\n",
      "zip_code              0\n",
      "addr_state            0\n",
      "loan_status           0\n",
      "annual_income_bins    0\n",
      "dtype: int64\n"
     ]
    },
    {
     "data": {
      "text/html": [
       "<div>\n",
       "<style scoped>\n",
       "    .dataframe tbody tr th:only-of-type {\n",
       "        vertical-align: middle;\n",
       "    }\n",
       "\n",
       "    .dataframe tbody tr th {\n",
       "        vertical-align: top;\n",
       "    }\n",
       "\n",
       "    .dataframe thead th {\n",
       "        text-align: right;\n",
       "    }\n",
       "</style>\n",
       "<table border=\"1\" class=\"dataframe\">\n",
       "  <thead>\n",
       "    <tr style=\"text-align: right;\">\n",
       "      <th></th>\n",
       "      <th>id</th>\n",
       "      <th>member_id</th>\n",
       "      <th>emp_title</th>\n",
       "      <th>emp_length</th>\n",
       "      <th>home_ownership</th>\n",
       "      <th>annual_inc</th>\n",
       "      <th>zip_code</th>\n",
       "      <th>addr_state</th>\n",
       "      <th>loan_status</th>\n",
       "      <th>annual_income_bins</th>\n",
       "    </tr>\n",
       "  </thead>\n",
       "  <tbody>\n",
       "    <tr>\n",
       "      <th>1</th>\n",
       "      <td>1077430</td>\n",
       "      <td>1314167</td>\n",
       "      <td>Ryder</td>\n",
       "      <td>&lt; 1 year</td>\n",
       "      <td>RENT</td>\n",
       "      <td>30000.0</td>\n",
       "      <td>309xx</td>\n",
       "      <td>GA</td>\n",
       "      <td>Charged Off</td>\n",
       "      <td>low</td>\n",
       "    </tr>\n",
       "    <tr>\n",
       "      <th>3</th>\n",
       "      <td>1076863</td>\n",
       "      <td>1277178</td>\n",
       "      <td>AIR RESOURCES BOARD</td>\n",
       "      <td>10+ years</td>\n",
       "      <td>RENT</td>\n",
       "      <td>49200.0</td>\n",
       "      <td>917xx</td>\n",
       "      <td>CA</td>\n",
       "      <td>Fully Paid</td>\n",
       "      <td>medium</td>\n",
       "    </tr>\n",
       "    <tr>\n",
       "      <th>4</th>\n",
       "      <td>1075358</td>\n",
       "      <td>1311748</td>\n",
       "      <td>University Medical Group</td>\n",
       "      <td>1 year</td>\n",
       "      <td>RENT</td>\n",
       "      <td>80000.0</td>\n",
       "      <td>972xx</td>\n",
       "      <td>OR</td>\n",
       "      <td>Current</td>\n",
       "      <td>high</td>\n",
       "    </tr>\n",
       "    <tr>\n",
       "      <th>5</th>\n",
       "      <td>1075269</td>\n",
       "      <td>1311441</td>\n",
       "      <td>Veolia Transportaton</td>\n",
       "      <td>3 years</td>\n",
       "      <td>RENT</td>\n",
       "      <td>36000.0</td>\n",
       "      <td>852xx</td>\n",
       "      <td>AZ</td>\n",
       "      <td>Fully Paid</td>\n",
       "      <td>low</td>\n",
       "    </tr>\n",
       "    <tr>\n",
       "      <th>6</th>\n",
       "      <td>1069639</td>\n",
       "      <td>1304742</td>\n",
       "      <td>Southern Star Photography</td>\n",
       "      <td>8 years</td>\n",
       "      <td>RENT</td>\n",
       "      <td>47004.0</td>\n",
       "      <td>280xx</td>\n",
       "      <td>NC</td>\n",
       "      <td>Fully Paid</td>\n",
       "      <td>low</td>\n",
       "    </tr>\n",
       "  </tbody>\n",
       "</table>\n",
       "</div>"
      ],
      "text/plain": [
       "        id  member_id                  emp_title emp_length home_ownership  \\\n",
       "1  1077430    1314167                      Ryder   < 1 year           RENT   \n",
       "3  1076863    1277178        AIR RESOURCES BOARD  10+ years           RENT   \n",
       "4  1075358    1311748   University Medical Group     1 year           RENT   \n",
       "5  1075269    1311441       Veolia Transportaton    3 years           RENT   \n",
       "6  1069639    1304742  Southern Star Photography    8 years           RENT   \n",
       "\n",
       "   annual_inc zip_code addr_state  loan_status annual_income_bins  \n",
       "1     30000.0    309xx         GA  Charged Off                low  \n",
       "3     49200.0    917xx         CA   Fully Paid             medium  \n",
       "4     80000.0    972xx         OR      Current               high  \n",
       "5     36000.0    852xx         AZ   Fully Paid                low  \n",
       "6     47004.0    280xx         NC   Fully Paid                low  "
      ]
     },
     "execution_count": 221,
     "metadata": {},
     "output_type": "execute_result"
    }
   ],
   "source": [
    "#created bins of annual_inc with labels low, medium & high salary\n",
    "\n",
    "df_ann_inc = df_consumer.copy()\n",
    "df_ann_inc['annual_income_bins'] = pd.qcut(x = df_ann_inc['annual_inc'], q = 3,precision = 5,labels = ['low','medium','high'])\n",
    "print(df_ann_inc.isnull().sum()) #checking null values after binning of annual income\n",
    "df_ann_inc.head()"
   ]
  },
  {
   "cell_type": "code",
   "execution_count": 222,
   "id": "43fc0b20",
   "metadata": {},
   "outputs": [
    {
     "data": {
      "image/png": "[encoded data removed]",
      "text/plain": [
       "<Figure size 1440x720 with 1 Axes>"
      ]
     },
     "metadata": {
      "needs_background": "light"
     },
     "output_type": "display_data"
    }
   ],
   "source": [
    "stacked_chart(df_ann_inc,'annual_income_bins','loan_status')\n",
    "plt.title('annual_income_bins count vs loan_status\\n')   #creating stacked chart for annual_income_bins vs loan_status\n",
    "plt.ylabel('Count of annual_income_bins')\n",
    "plt.show()"
   ]
  },
  {
   "cell_type": "markdown",
   "id": "01167c19",
   "metadata": {},
   "source": [
    "The bins are created using annual income and allocated categories like low, medium & high. As we can see that in low & medium categories charged off are more compared to high category of annual income. So, in this case LC can give lesser amount/no loans to these categories of consumers."
   ]
  },
  {
   "cell_type": "markdown",
   "id": "5bf92686",
   "metadata": {},
   "source": [
    "##### Zip Code, State vs loan_status"
   ]
  },
  {
   "cell_type": "code",
   "execution_count": 223,
   "id": "ac87fc24",
   "metadata": {},
   "outputs": [
    {
     "data": {
      "text/plain": [
       "100xx    564\n",
       "945xx    514\n",
       "112xx    490\n",
       "606xx    481\n",
       "070xx    454\n",
       "        ... \n",
       "736xx      1\n",
       "831xx      1\n",
       "090xx      1\n",
       "677xx      1\n",
       "469xx      1\n",
       "Name: zip_code, Length: 818, dtype: int64"
      ]
     },
     "execution_count": 223,
     "metadata": {},
     "output_type": "execute_result"
    }
   ],
   "source": [
    "df_consumer['zip_code'].value_counts()  #unique categories in zip code along with their counts"
   ]
  },
  {
   "cell_type": "code",
   "execution_count": 224,
   "id": "556839cb",
   "metadata": {},
   "outputs": [
    {
     "data": {
      "text/html": [
       "<div>\n",
       "<style scoped>\n",
       "    .dataframe tbody tr th:only-of-type {\n",
       "        vertical-align: middle;\n",
       "    }\n",
       "\n",
       "    .dataframe tbody tr th {\n",
       "        vertical-align: top;\n",
       "    }\n",
       "\n",
       "    .dataframe thead th {\n",
       "        text-align: right;\n",
       "    }\n",
       "</style>\n",
       "<table border=\"1\" class=\"dataframe\">\n",
       "  <thead>\n",
       "    <tr style=\"text-align: right;\">\n",
       "      <th></th>\n",
       "      <th>id</th>\n",
       "      <th>member_id</th>\n",
       "      <th>emp_title</th>\n",
       "      <th>emp_length</th>\n",
       "      <th>home_ownership</th>\n",
       "      <th>annual_inc</th>\n",
       "      <th>zip_code</th>\n",
       "      <th>addr_state</th>\n",
       "      <th>loan_status</th>\n",
       "    </tr>\n",
       "  </thead>\n",
       "  <tbody>\n",
       "    <tr>\n",
       "      <th>1</th>\n",
       "      <td>1077430</td>\n",
       "      <td>1314167</td>\n",
       "      <td>Ryder</td>\n",
       "      <td>&lt; 1 year</td>\n",
       "      <td>RENT</td>\n",
       "      <td>30000.0</td>\n",
       "      <td>309xx</td>\n",
       "      <td>GA</td>\n",
       "      <td>Charged Off</td>\n",
       "    </tr>\n",
       "    <tr>\n",
       "      <th>9</th>\n",
       "      <td>1071570</td>\n",
       "      <td>1306721</td>\n",
       "      <td>Starbucks</td>\n",
       "      <td>&lt; 1 year</td>\n",
       "      <td>RENT</td>\n",
       "      <td>15000.0</td>\n",
       "      <td>774xx</td>\n",
       "      <td>TX</td>\n",
       "      <td>Charged Off</td>\n",
       "    </tr>\n",
       "    <tr>\n",
       "      <th>12</th>\n",
       "      <td>1064687</td>\n",
       "      <td>1298717</td>\n",
       "      <td>Va. Dept of Conservation/Recreation</td>\n",
       "      <td>&lt; 1 year</td>\n",
       "      <td>RENT</td>\n",
       "      <td>30000.0</td>\n",
       "      <td>245xx</td>\n",
       "      <td>VA</td>\n",
       "      <td>Charged Off</td>\n",
       "    </tr>\n",
       "    <tr>\n",
       "      <th>14</th>\n",
       "      <td>1069057</td>\n",
       "      <td>1303503</td>\n",
       "      <td>SFMTA</td>\n",
       "      <td>3 years</td>\n",
       "      <td>RENT</td>\n",
       "      <td>100000.0</td>\n",
       "      <td>951xx</td>\n",
       "      <td>CA</td>\n",
       "      <td>Charged Off</td>\n",
       "    </tr>\n",
       "    <tr>\n",
       "      <th>21</th>\n",
       "      <td>1039153</td>\n",
       "      <td>1269083</td>\n",
       "      <td>Osram Sylvania</td>\n",
       "      <td>10+ years</td>\n",
       "      <td>RENT</td>\n",
       "      <td>105000.0</td>\n",
       "      <td>335xx</td>\n",
       "      <td>FL</td>\n",
       "      <td>Charged Off</td>\n",
       "    </tr>\n",
       "  </tbody>\n",
       "</table>\n",
       "</div>"
      ],
      "text/plain": [
       "         id  member_id                            emp_title emp_length  \\\n",
       "1   1077430    1314167                                Ryder   < 1 year   \n",
       "9   1071570    1306721                            Starbucks   < 1 year   \n",
       "12  1064687    1298717  Va. Dept of Conservation/Recreation   < 1 year   \n",
       "14  1069057    1303503                                SFMTA    3 years   \n",
       "21  1039153    1269083                       Osram Sylvania  10+ years   \n",
       "\n",
       "   home_ownership  annual_inc zip_code addr_state  loan_status  \n",
       "1            RENT     30000.0    309xx         GA  Charged Off  \n",
       "9            RENT     15000.0    774xx         TX  Charged Off  \n",
       "12           RENT     30000.0    245xx         VA  Charged Off  \n",
       "14           RENT    100000.0    951xx         CA  Charged Off  \n",
       "21           RENT    105000.0    335xx         FL  Charged Off  "
      ]
     },
     "execution_count": 224,
     "metadata": {},
     "output_type": "execute_result"
    }
   ],
   "source": [
    "#filtering for charged off consumer to analyse zip code vs charged off\n",
    "df_zip = df_consumer[df_consumer['loan_status'] == 'Charged Off']\n",
    "df_zip.head()"
   ]
  },
  {
   "cell_type": "code",
   "execution_count": 226,
   "id": "225ec91c",
   "metadata": {},
   "outputs": [
    {
     "data": {
      "image/png": "[encoded data removed]",
      "text/plain": [
       "<Figure size 720x360 with 1 Axes>"
      ]
     },
     "metadata": {
      "needs_background": "light"
     },
     "output_type": "display_data"
    }
   ],
   "source": [
    "x = df_zip.groupby(['zip_code'])['loan_status'].value_counts().sort_values(ascending = False)[:10]\n",
    "bar_chart_counts(x,'zip_code')"
   ]
  },
  {
   "cell_type": "markdown",
   "id": "437182d2",
   "metadata": {},
   "source": [
    "As we can see from the chart these are top 10 consumers who are charged off so LC should consider zip codes while providing loans to consumers."
   ]
  },
  {
   "cell_type": "code",
   "execution_count": 227,
   "id": "64bd9131",
   "metadata": {},
   "outputs": [
    {
     "data": {
      "image/png": "[encoded data removed]",
      "text/plain": [
       "<Figure size 720x360 with 1 Axes>"
      ]
     },
     "metadata": {
      "needs_background": "light"
     },
     "output_type": "display_data"
    }
   ],
   "source": [
    "df_zip = df_consumer[df_consumer['loan_status'] == 'Fully Paid']\n",
    "x = df_zip.groupby(['zip_code'])['loan_status'].value_counts().sort_values(ascending = False)[:10]\n",
    "bar_chart_counts(x,'Fully Paid')\n"
   ]
  },
  {
   "cell_type": "markdown",
   "id": "97d8ccbd",
   "metadata": {},
   "source": [
    "As we can see from the bar chart that consumer zip code which are present in charged off are also present in fully paid. Also we can see that similar consumers zip code in charged off have fully paid maximum no of times loan. Hence, while lending loans we can offer loans to them at nominal amount or as decided by business."
   ]
  },
  {
   "cell_type": "code",
   "execution_count": 228,
   "id": "430a09d4",
   "metadata": {},
   "outputs": [
    {
     "data": {
      "image/png": "[encoded data removed]",
      "text/plain": [
       "<Figure size 720x360 with 1 Axes>"
      ]
     },
     "metadata": {
      "needs_background": "light"
     },
     "output_type": "display_data"
    }
   ],
   "source": [
    "#filtering for states\n",
    "\n",
    "df_states = df_consumer[df_consumer['loan_status']=='Charged Off']\n",
    "x = df_states.groupby(['addr_state'])['loan_status'].value_counts().sort_values(ascending = False)[:10]\n",
    "bar_chart_counts(x,'addr_state')"
   ]
  },
  {
   "cell_type": "code",
   "execution_count": 229,
   "id": "aaae248d",
   "metadata": {},
   "outputs": [
    {
     "data": {
      "image/png": "[encoded data removed]",
      "text/plain": [
       "<Figure size 720x360 with 1 Axes>"
      ]
     },
     "metadata": {
      "needs_background": "light"
     },
     "output_type": "display_data"
    }
   ],
   "source": [
    "#filtering for states\n",
    "\n",
    "df_states = df_consumer[df_consumer['loan_status']=='Fully Paid']\n",
    "x = df_states.groupby(['addr_state'])['loan_status'].value_counts().sort_values(ascending = False)[:10]\n",
    "bar_chart_counts(x,'addr_state')"
   ]
  },
  {
   "cell_type": "markdown",
   "id": "3a84753c",
   "metadata": {},
   "source": [
    "As we can see that CA state has most no of charged off so while offering loans to those consumers who belong to CA state should be considered. Along with this zip code is an important factor while offering loans to consumer since state is an aggregated values but we must consider at granular level while offering loan to consumers."
   ]
  },
  {
   "cell_type": "markdown",
   "id": "18db5ed9",
   "metadata": {},
   "source": [
    "##### Consumer Attributes - Conclusion"
   ]
  },
  {
   "cell_type": "markdown",
   "id": "0951fc0b",
   "metadata": {},
   "source": [
    "1) Emp title must be checked like organisation name and where consumer work.\n",
    "\n",
    "2) Emp length is an important factor as we saw consumer with more than 10+ years of experience are more into charged off than consumer with less years of experience. Along with we saw that emp_length and home ownership were important drivers for charged off consumers.\n",
    "\n",
    "3) Zip code at granular level can also be taken into account but as we saw that few zip codes were both in fully charged and charged off with maximum times paying as fully charged hence while offering loans to those zip code consumers LC can offer attractive loans with good interest rates."
   ]
  },
  {
   "cell_type": "markdown",
   "id": "63e67fd6",
   "metadata": {},
   "source": [
    "##### Loan Attributes"
   ]
  },
  {
   "cell_type": "code",
   "execution_count": 230,
   "id": "f45209db",
   "metadata": {},
   "outputs": [
    {
     "data": {
      "text/html": [
       "<div>\n",
       "<style scoped>\n",
       "    .dataframe tbody tr th:only-of-type {\n",
       "        vertical-align: middle;\n",
       "    }\n",
       "\n",
       "    .dataframe tbody tr th {\n",
       "        vertical-align: top;\n",
       "    }\n",
       "\n",
       "    .dataframe thead th {\n",
       "        text-align: right;\n",
       "    }\n",
       "</style>\n",
       "<table border=\"1\" class=\"dataframe\">\n",
       "  <thead>\n",
       "    <tr style=\"text-align: right;\">\n",
       "      <th></th>\n",
       "      <th>id</th>\n",
       "      <th>member_id</th>\n",
       "      <th>loan_amnt</th>\n",
       "      <th>funded_amnt</th>\n",
       "      <th>funded_amnt_inv</th>\n",
       "      <th>term</th>\n",
       "      <th>int_rate</th>\n",
       "      <th>installment</th>\n",
       "      <th>grade</th>\n",
       "      <th>sub_grade</th>\n",
       "      <th>...</th>\n",
       "      <th>num_tl_90g_dpd_24m</th>\n",
       "      <th>num_tl_op_past_12m</th>\n",
       "      <th>pct_tl_nvr_dlq</th>\n",
       "      <th>percent_bc_gt_75</th>\n",
       "      <th>pub_rec_bankruptcies</th>\n",
       "      <th>tax_liens</th>\n",
       "      <th>tot_hi_cred_lim</th>\n",
       "      <th>total_bal_ex_mort</th>\n",
       "      <th>total_bc_limit</th>\n",
       "      <th>total_il_high_credit_limit</th>\n",
       "    </tr>\n",
       "  </thead>\n",
       "  <tbody>\n",
       "    <tr>\n",
       "      <th>0</th>\n",
       "      <td>1077501</td>\n",
       "      <td>1296599</td>\n",
       "      <td>5000</td>\n",
       "      <td>5000</td>\n",
       "      <td>4975.0</td>\n",
       "      <td>36 months</td>\n",
       "      <td>10.65%</td>\n",
       "      <td>162.87</td>\n",
       "      <td>B</td>\n",
       "      <td>B2</td>\n",
       "      <td>...</td>\n",
       "      <td>NaN</td>\n",
       "      <td>NaN</td>\n",
       "      <td>NaN</td>\n",
       "      <td>NaN</td>\n",
       "      <td>0.0</td>\n",
       "      <td>0.0</td>\n",
       "      <td>NaN</td>\n",
       "      <td>NaN</td>\n",
       "      <td>NaN</td>\n",
       "      <td>NaN</td>\n",
       "    </tr>\n",
       "    <tr>\n",
       "      <th>1</th>\n",
       "      <td>1077430</td>\n",
       "      <td>1314167</td>\n",
       "      <td>2500</td>\n",
       "      <td>2500</td>\n",
       "      <td>2500.0</td>\n",
       "      <td>60 months</td>\n",
       "      <td>15.27%</td>\n",
       "      <td>59.83</td>\n",
       "      <td>C</td>\n",
       "      <td>C4</td>\n",
       "      <td>...</td>\n",
       "      <td>NaN</td>\n",
       "      <td>NaN</td>\n",
       "      <td>NaN</td>\n",
       "      <td>NaN</td>\n",
       "      <td>0.0</td>\n",
       "      <td>0.0</td>\n",
       "      <td>NaN</td>\n",
       "      <td>NaN</td>\n",
       "      <td>NaN</td>\n",
       "      <td>NaN</td>\n",
       "    </tr>\n",
       "    <tr>\n",
       "      <th>2</th>\n",
       "      <td>1077175</td>\n",
       "      <td>1313524</td>\n",
       "      <td>2400</td>\n",
       "      <td>2400</td>\n",
       "      <td>2400.0</td>\n",
       "      <td>36 months</td>\n",
       "      <td>15.96%</td>\n",
       "      <td>84.33</td>\n",
       "      <td>C</td>\n",
       "      <td>C5</td>\n",
       "      <td>...</td>\n",
       "      <td>NaN</td>\n",
       "      <td>NaN</td>\n",
       "      <td>NaN</td>\n",
       "      <td>NaN</td>\n",
       "      <td>0.0</td>\n",
       "      <td>0.0</td>\n",
       "      <td>NaN</td>\n",
       "      <td>NaN</td>\n",
       "      <td>NaN</td>\n",
       "      <td>NaN</td>\n",
       "    </tr>\n",
       "    <tr>\n",
       "      <th>3</th>\n",
       "      <td>1076863</td>\n",
       "      <td>1277178</td>\n",
       "      <td>10000</td>\n",
       "      <td>10000</td>\n",
       "      <td>10000.0</td>\n",
       "      <td>36 months</td>\n",
       "      <td>13.49%</td>\n",
       "      <td>339.31</td>\n",
       "      <td>C</td>\n",
       "      <td>C1</td>\n",
       "      <td>...</td>\n",
       "      <td>NaN</td>\n",
       "      <td>NaN</td>\n",
       "      <td>NaN</td>\n",
       "      <td>NaN</td>\n",
       "      <td>0.0</td>\n",
       "      <td>0.0</td>\n",
       "      <td>NaN</td>\n",
       "      <td>NaN</td>\n",
       "      <td>NaN</td>\n",
       "      <td>NaN</td>\n",
       "    </tr>\n",
       "    <tr>\n",
       "      <th>4</th>\n",
       "      <td>1075358</td>\n",
       "      <td>1311748</td>\n",
       "      <td>3000</td>\n",
       "      <td>3000</td>\n",
       "      <td>3000.0</td>\n",
       "      <td>60 months</td>\n",
       "      <td>12.69%</td>\n",
       "      <td>67.79</td>\n",
       "      <td>B</td>\n",
       "      <td>B5</td>\n",
       "      <td>...</td>\n",
       "      <td>NaN</td>\n",
       "      <td>NaN</td>\n",
       "      <td>NaN</td>\n",
       "      <td>NaN</td>\n",
       "      <td>0.0</td>\n",
       "      <td>0.0</td>\n",
       "      <td>NaN</td>\n",
       "      <td>NaN</td>\n",
       "      <td>NaN</td>\n",
       "      <td>NaN</td>\n",
       "    </tr>\n",
       "  </tbody>\n",
       "</table>\n",
       "<p>5 rows × 111 columns</p>\n",
       "</div>"
      ],
      "text/plain": [
       "        id  member_id  loan_amnt  funded_amnt  funded_amnt_inv        term  \\\n",
       "0  1077501    1296599       5000         5000           4975.0   36 months   \n",
       "1  1077430    1314167       2500         2500           2500.0   60 months   \n",
       "2  1077175    1313524       2400         2400           2400.0   36 months   \n",
       "3  1076863    1277178      10000        10000          10000.0   36 months   \n",
       "4  1075358    1311748       3000         3000           3000.0   60 months   \n",
       "\n",
       "  int_rate  installment grade sub_grade  ... num_tl_90g_dpd_24m  \\\n",
       "0   10.65%       162.87     B        B2  ...                NaN   \n",
       "1   15.27%        59.83     C        C4  ...                NaN   \n",
       "2   15.96%        84.33     C        C5  ...                NaN   \n",
       "3   13.49%       339.31     C        C1  ...                NaN   \n",
       "4   12.69%        67.79     B        B5  ...                NaN   \n",
       "\n",
       "  num_tl_op_past_12m pct_tl_nvr_dlq  percent_bc_gt_75 pub_rec_bankruptcies  \\\n",
       "0                NaN            NaN               NaN                  0.0   \n",
       "1                NaN            NaN               NaN                  0.0   \n",
       "2                NaN            NaN               NaN                  0.0   \n",
       "3                NaN            NaN               NaN                  0.0   \n",
       "4                NaN            NaN               NaN                  0.0   \n",
       "\n",
       "  tax_liens tot_hi_cred_lim total_bal_ex_mort total_bc_limit  \\\n",
       "0       0.0             NaN               NaN            NaN   \n",
       "1       0.0             NaN               NaN            NaN   \n",
       "2       0.0             NaN               NaN            NaN   \n",
       "3       0.0             NaN               NaN            NaN   \n",
       "4       0.0             NaN               NaN            NaN   \n",
       "\n",
       "  total_il_high_credit_limit  \n",
       "0                        NaN  \n",
       "1                        NaN  \n",
       "2                        NaN  \n",
       "3                        NaN  \n",
       "4                        NaN  \n",
       "\n",
       "[5 rows x 111 columns]"
      ]
     },
     "execution_count": 230,
     "metadata": {},
     "output_type": "execute_result"
    }
   ],
   "source": [
    "df_loan = pd.read_csv('loan.csv')\n",
    "df_loan.head()"
   ]
  },
  {
   "cell_type": "code",
   "execution_count": 231,
   "id": "ae98c0be",
   "metadata": {},
   "outputs": [
    {
     "name": "stdout",
     "output_type": "stream",
     "text": [
      "['id', 'member_id', 'loan_amnt', 'funded_amnt', 'funded_amnt_inv', 'term', 'int_rate', 'installment', 'grade', 'sub_grade', 'emp_title', 'emp_length', 'home_ownership', 'annual_inc', 'verification_status', 'issue_d', 'loan_status', 'pymnt_plan', 'url', 'desc', 'purpose', 'title', 'zip_code', 'addr_state', 'dti', 'delinq_2yrs', 'earliest_cr_line', 'inq_last_6mths', 'mths_since_last_delinq', 'mths_since_last_record', 'open_acc', 'pub_rec', 'revol_bal', 'revol_util', 'total_acc', 'initial_list_status', 'out_prncp', 'out_prncp_inv', 'total_pymnt', 'total_pymnt_inv', 'total_rec_prncp', 'total_rec_int', 'total_rec_late_fee', 'recoveries', 'collection_recovery_fee', 'last_pymnt_d', 'last_pymnt_amnt', 'next_pymnt_d', 'last_credit_pull_d', 'collections_12_mths_ex_med', 'mths_since_last_major_derog', 'policy_code', 'application_type', 'annual_inc_joint', 'dti_joint', 'verification_status_joint', 'acc_now_delinq', 'tot_coll_amt', 'tot_cur_bal', 'open_acc_6m', 'open_il_6m', 'open_il_12m', 'open_il_24m', 'mths_since_rcnt_il', 'total_bal_il', 'il_util', 'open_rv_12m', 'open_rv_24m', 'max_bal_bc', 'all_util', 'total_rev_hi_lim', 'inq_fi', 'total_cu_tl', 'inq_last_12m', 'acc_open_past_24mths', 'avg_cur_bal', 'bc_open_to_buy', 'bc_util', 'chargeoff_within_12_mths', 'delinq_amnt', 'mo_sin_old_il_acct', 'mo_sin_old_rev_tl_op', 'mo_sin_rcnt_rev_tl_op', 'mo_sin_rcnt_tl', 'mort_acc', 'mths_since_recent_bc', 'mths_since_recent_bc_dlq', 'mths_since_recent_inq', 'mths_since_recent_revol_delinq', 'num_accts_ever_120_pd', 'num_actv_bc_tl', 'num_actv_rev_tl', 'num_bc_sats', 'num_bc_tl', 'num_il_tl', 'num_op_rev_tl', 'num_rev_accts', 'num_rev_tl_bal_gt_0', 'num_sats', 'num_tl_120dpd_2m', 'num_tl_30dpd', 'num_tl_90g_dpd_24m', 'num_tl_op_past_12m', 'pct_tl_nvr_dlq', 'percent_bc_gt_75', 'pub_rec_bankruptcies', 'tax_liens', 'tot_hi_cred_lim', 'total_bal_ex_mort', 'total_bc_limit', 'total_il_high_credit_limit']\n"
     ]
    }
   ],
   "source": [
    "print(df_loan.columns.tolist())"
   ]
  },
  {
   "cell_type": "code",
   "execution_count": 232,
   "id": "b79ade42",
   "metadata": {},
   "outputs": [],
   "source": [
    "#Filtering loan attributes\n",
    "\n",
    "data_loan = df_loan[['loan_amnt', 'funded_amnt', 'funded_amnt_inv', 'term', 'int_rate', 'installment', 'grade', 'sub_grade', 'verification_status', 'issue_d', 'loan_status','purpose',\n",
    "'dti', 'delinq_2yrs', 'earliest_cr_line', 'inq_last_6mths', 'mths_since_last_delinq', 'mths_since_last_record', 'open_acc', 'pub_rec', 'revol_bal', 'revol_util', 'total_acc','out_prncp','out_prncp_inv',\n",
    "'total_pymnt', 'total_pymnt_inv', 'total_rec_prncp', 'total_rec_int', 'total_rec_late_fee', 'recoveries', 'collection_recovery_fee', 'last_pymnt_d', 'last_pymnt_amnt', 'next_pymnt_d', 'last_credit_pull_d', 'collections_12_mths_ex_med','pub_rec_bankruptcies']]"
   ]
  },
  {
   "cell_type": "code",
   "execution_count": 233,
   "id": "88e17d51",
   "metadata": {},
   "outputs": [
    {
     "data": {
      "text/plain": [
       "loan_amnt                         0\n",
       "funded_amnt                       0\n",
       "funded_amnt_inv                   0\n",
       "term                              0\n",
       "int_rate                          0\n",
       "installment                       0\n",
       "grade                             0\n",
       "sub_grade                         0\n",
       "verification_status               0\n",
       "issue_d                           0\n",
       "loan_status                       0\n",
       "purpose                           0\n",
       "dti                               0\n",
       "delinq_2yrs                       0\n",
       "earliest_cr_line                  0\n",
       "inq_last_6mths                    0\n",
       "mths_since_last_delinq        25682\n",
       "mths_since_last_record        36931\n",
       "open_acc                          0\n",
       "pub_rec                           0\n",
       "revol_bal                         0\n",
       "revol_util                       50\n",
       "total_acc                         0\n",
       "out_prncp                         0\n",
       "out_prncp_inv                     0\n",
       "total_pymnt                       0\n",
       "total_pymnt_inv                   0\n",
       "total_rec_prncp                   0\n",
       "total_rec_int                     0\n",
       "total_rec_late_fee                0\n",
       "recoveries                        0\n",
       "collection_recovery_fee           0\n",
       "last_pymnt_d                     71\n",
       "last_pymnt_amnt                   0\n",
       "next_pymnt_d                  38577\n",
       "last_credit_pull_d                2\n",
       "collections_12_mths_ex_med       56\n",
       "pub_rec_bankruptcies            697\n",
       "dtype: int64"
      ]
     },
     "execution_count": 233,
     "metadata": {},
     "output_type": "execute_result"
    }
   ],
   "source": [
    "data_loan.isnull().sum()  #checking null values"
   ]
  },
  {
   "cell_type": "code",
   "execution_count": 234,
   "id": "f36c33a0",
   "metadata": {},
   "outputs": [
    {
     "data": {
      "text/html": [
       "<div>\n",
       "<style scoped>\n",
       "    .dataframe tbody tr th:only-of-type {\n",
       "        vertical-align: middle;\n",
       "    }\n",
       "\n",
       "    .dataframe tbody tr th {\n",
       "        vertical-align: top;\n",
       "    }\n",
       "\n",
       "    .dataframe thead th {\n",
       "        text-align: right;\n",
       "    }\n",
       "</style>\n",
       "<table border=\"1\" class=\"dataframe\">\n",
       "  <thead>\n",
       "    <tr style=\"text-align: right;\">\n",
       "      <th></th>\n",
       "      <th>loan_amnt</th>\n",
       "      <th>funded_amnt</th>\n",
       "      <th>funded_amnt_inv</th>\n",
       "      <th>term</th>\n",
       "      <th>int_rate</th>\n",
       "      <th>installment</th>\n",
       "      <th>grade</th>\n",
       "      <th>sub_grade</th>\n",
       "      <th>verification_status</th>\n",
       "      <th>issue_d</th>\n",
       "      <th>...</th>\n",
       "      <th>total_rec_int</th>\n",
       "      <th>total_rec_late_fee</th>\n",
       "      <th>recoveries</th>\n",
       "      <th>collection_recovery_fee</th>\n",
       "      <th>last_pymnt_d</th>\n",
       "      <th>last_pymnt_amnt</th>\n",
       "      <th>next_pymnt_d</th>\n",
       "      <th>last_credit_pull_d</th>\n",
       "      <th>collections_12_mths_ex_med</th>\n",
       "      <th>pub_rec_bankruptcies</th>\n",
       "    </tr>\n",
       "  </thead>\n",
       "  <tbody>\n",
       "    <tr>\n",
       "      <th>0</th>\n",
       "      <td>5000</td>\n",
       "      <td>5000</td>\n",
       "      <td>4975.0</td>\n",
       "      <td>36 months</td>\n",
       "      <td>10.65%</td>\n",
       "      <td>162.87</td>\n",
       "      <td>B</td>\n",
       "      <td>B2</td>\n",
       "      <td>Verified</td>\n",
       "      <td>Dec-11</td>\n",
       "      <td>...</td>\n",
       "      <td>863.16</td>\n",
       "      <td>0.00</td>\n",
       "      <td>0.00</td>\n",
       "      <td>0.00</td>\n",
       "      <td>Jan-15</td>\n",
       "      <td>171.62</td>\n",
       "      <td>NaN</td>\n",
       "      <td>May-16</td>\n",
       "      <td>0.0</td>\n",
       "      <td>0.0</td>\n",
       "    </tr>\n",
       "    <tr>\n",
       "      <th>1</th>\n",
       "      <td>2500</td>\n",
       "      <td>2500</td>\n",
       "      <td>2500.0</td>\n",
       "      <td>60 months</td>\n",
       "      <td>15.27%</td>\n",
       "      <td>59.83</td>\n",
       "      <td>C</td>\n",
       "      <td>C4</td>\n",
       "      <td>Source Verified</td>\n",
       "      <td>Dec-11</td>\n",
       "      <td>...</td>\n",
       "      <td>435.17</td>\n",
       "      <td>0.00</td>\n",
       "      <td>117.08</td>\n",
       "      <td>1.11</td>\n",
       "      <td>Apr-13</td>\n",
       "      <td>119.66</td>\n",
       "      <td>NaN</td>\n",
       "      <td>Sep-13</td>\n",
       "      <td>0.0</td>\n",
       "      <td>0.0</td>\n",
       "    </tr>\n",
       "    <tr>\n",
       "      <th>2</th>\n",
       "      <td>2400</td>\n",
       "      <td>2400</td>\n",
       "      <td>2400.0</td>\n",
       "      <td>36 months</td>\n",
       "      <td>15.96%</td>\n",
       "      <td>84.33</td>\n",
       "      <td>C</td>\n",
       "      <td>C5</td>\n",
       "      <td>Not Verified</td>\n",
       "      <td>Dec-11</td>\n",
       "      <td>...</td>\n",
       "      <td>605.67</td>\n",
       "      <td>0.00</td>\n",
       "      <td>0.00</td>\n",
       "      <td>0.00</td>\n",
       "      <td>Jun-14</td>\n",
       "      <td>649.91</td>\n",
       "      <td>NaN</td>\n",
       "      <td>May-16</td>\n",
       "      <td>0.0</td>\n",
       "      <td>0.0</td>\n",
       "    </tr>\n",
       "    <tr>\n",
       "      <th>3</th>\n",
       "      <td>10000</td>\n",
       "      <td>10000</td>\n",
       "      <td>10000.0</td>\n",
       "      <td>36 months</td>\n",
       "      <td>13.49%</td>\n",
       "      <td>339.31</td>\n",
       "      <td>C</td>\n",
       "      <td>C1</td>\n",
       "      <td>Source Verified</td>\n",
       "      <td>Dec-11</td>\n",
       "      <td>...</td>\n",
       "      <td>2214.92</td>\n",
       "      <td>16.97</td>\n",
       "      <td>0.00</td>\n",
       "      <td>0.00</td>\n",
       "      <td>Jan-15</td>\n",
       "      <td>357.48</td>\n",
       "      <td>NaN</td>\n",
       "      <td>Apr-16</td>\n",
       "      <td>0.0</td>\n",
       "      <td>0.0</td>\n",
       "    </tr>\n",
       "    <tr>\n",
       "      <th>4</th>\n",
       "      <td>3000</td>\n",
       "      <td>3000</td>\n",
       "      <td>3000.0</td>\n",
       "      <td>60 months</td>\n",
       "      <td>12.69%</td>\n",
       "      <td>67.79</td>\n",
       "      <td>B</td>\n",
       "      <td>B5</td>\n",
       "      <td>Source Verified</td>\n",
       "      <td>Dec-11</td>\n",
       "      <td>...</td>\n",
       "      <td>1037.39</td>\n",
       "      <td>0.00</td>\n",
       "      <td>0.00</td>\n",
       "      <td>0.00</td>\n",
       "      <td>May-16</td>\n",
       "      <td>67.79</td>\n",
       "      <td>Jun-16</td>\n",
       "      <td>May-16</td>\n",
       "      <td>0.0</td>\n",
       "      <td>0.0</td>\n",
       "    </tr>\n",
       "  </tbody>\n",
       "</table>\n",
       "<p>5 rows × 38 columns</p>\n",
       "</div>"
      ],
      "text/plain": [
       "   loan_amnt  funded_amnt  funded_amnt_inv        term int_rate  installment  \\\n",
       "0       5000         5000           4975.0   36 months   10.65%       162.87   \n",
       "1       2500         2500           2500.0   60 months   15.27%        59.83   \n",
       "2       2400         2400           2400.0   36 months   15.96%        84.33   \n",
       "3      10000        10000          10000.0   36 months   13.49%       339.31   \n",
       "4       3000         3000           3000.0   60 months   12.69%        67.79   \n",
       "\n",
       "  grade sub_grade verification_status issue_d  ... total_rec_int  \\\n",
       "0     B        B2            Verified  Dec-11  ...        863.16   \n",
       "1     C        C4     Source Verified  Dec-11  ...        435.17   \n",
       "2     C        C5        Not Verified  Dec-11  ...        605.67   \n",
       "3     C        C1     Source Verified  Dec-11  ...       2214.92   \n",
       "4     B        B5     Source Verified  Dec-11  ...       1037.39   \n",
       "\n",
       "  total_rec_late_fee  recoveries  collection_recovery_fee last_pymnt_d  \\\n",
       "0               0.00        0.00                     0.00       Jan-15   \n",
       "1               0.00      117.08                     1.11       Apr-13   \n",
       "2               0.00        0.00                     0.00       Jun-14   \n",
       "3              16.97        0.00                     0.00       Jan-15   \n",
       "4               0.00        0.00                     0.00       May-16   \n",
       "\n",
       "   last_pymnt_amnt  next_pymnt_d  last_credit_pull_d  \\\n",
       "0           171.62           NaN              May-16   \n",
       "1           119.66           NaN              Sep-13   \n",
       "2           649.91           NaN              May-16   \n",
       "3           357.48           NaN              Apr-16   \n",
       "4            67.79        Jun-16              May-16   \n",
       "\n",
       "   collections_12_mths_ex_med  pub_rec_bankruptcies  \n",
       "0                         0.0                   0.0  \n",
       "1                         0.0                   0.0  \n",
       "2                         0.0                   0.0  \n",
       "3                         0.0                   0.0  \n",
       "4                         0.0                   0.0  \n",
       "\n",
       "[5 rows x 38 columns]"
      ]
     },
     "execution_count": 234,
     "metadata": {},
     "output_type": "execute_result"
    }
   ],
   "source": [
    "data_loan.head()"
   ]
  },
  {
   "cell_type": "code",
   "execution_count": 235,
   "id": "06b425af",
   "metadata": {},
   "outputs": [
    {
     "name": "stdout",
     "output_type": "stream",
     "text": [
      "<class 'pandas.core.frame.DataFrame'>\n",
      "RangeIndex: 39717 entries, 0 to 39716\n",
      "Data columns (total 38 columns):\n",
      " #   Column                      Non-Null Count  Dtype  \n",
      "---  ------                      --------------  -----  \n",
      " 0   loan_amnt                   39717 non-null  int64  \n",
      " 1   funded_amnt                 39717 non-null  int64  \n",
      " 2   funded_amnt_inv             39717 non-null  float64\n",
      " 3   term                        39717 non-null  object \n",
      " 4   int_rate                    39717 non-null  object \n",
      " 5   installment                 39717 non-null  float64\n",
      " 6   grade                       39717 non-null  object \n",
      " 7   sub_grade                   39717 non-null  object \n",
      " 8   verification_status         39717 non-null  object \n",
      " 9   issue_d                     39717 non-null  object \n",
      " 10  loan_status                 39717 non-null  object \n",
      " 11  purpose                     39717 non-null  object \n",
      " 12  dti                         39717 non-null  float64\n",
      " 13  delinq_2yrs                 39717 non-null  int64  \n",
      " 14  earliest_cr_line            39717 non-null  object \n",
      " 15  inq_last_6mths              39717 non-null  int64  \n",
      " 16  mths_since_last_delinq      14035 non-null  float64\n",
      " 17  mths_since_last_record      2786 non-null   float64\n",
      " 18  open_acc                    39717 non-null  int64  \n",
      " 19  pub_rec                     39717 non-null  int64  \n",
      " 20  revol_bal                   39717 non-null  int64  \n",
      " 21  revol_util                  39667 non-null  object \n",
      " 22  total_acc                   39717 non-null  int64  \n",
      " 23  out_prncp                   39717 non-null  float64\n",
      " 24  out_prncp_inv               39717 non-null  float64\n",
      " 25  total_pymnt                 39717 non-null  float64\n",
      " 26  total_pymnt_inv             39717 non-null  float64\n",
      " 27  total_rec_prncp             39717 non-null  float64\n",
      " 28  total_rec_int               39717 non-null  float64\n",
      " 29  total_rec_late_fee          39717 non-null  float64\n",
      " 30  recoveries                  39717 non-null  float64\n",
      " 31  collection_recovery_fee     39717 non-null  float64\n",
      " 32  last_pymnt_d                39646 non-null  object \n",
      " 33  last_pymnt_amnt             39717 non-null  float64\n",
      " 34  next_pymnt_d                1140 non-null   object \n",
      " 35  last_credit_pull_d          39715 non-null  object \n",
      " 36  collections_12_mths_ex_med  39661 non-null  float64\n",
      " 37  pub_rec_bankruptcies        39020 non-null  float64\n",
      "dtypes: float64(17), int64(8), object(13)\n",
      "memory usage: 11.5+ MB\n"
     ]
    }
   ],
   "source": [
    "data_loan.info()  #checking data types of dataframe"
   ]
  },
  {
   "cell_type": "code",
   "execution_count": 236,
   "id": "eee783c5",
   "metadata": {},
   "outputs": [
    {
     "data": {
      "text/html": [
       "<div>\n",
       "<style scoped>\n",
       "    .dataframe tbody tr th:only-of-type {\n",
       "        vertical-align: middle;\n",
       "    }\n",
       "\n",
       "    .dataframe tbody tr th {\n",
       "        vertical-align: top;\n",
       "    }\n",
       "\n",
       "    .dataframe thead th {\n",
       "        text-align: right;\n",
       "    }\n",
       "</style>\n",
       "<table border=\"1\" class=\"dataframe\">\n",
       "  <thead>\n",
       "    <tr style=\"text-align: right;\">\n",
       "      <th></th>\n",
       "      <th>loan_amnt</th>\n",
       "      <th>funded_amnt</th>\n",
       "      <th>funded_amnt_inv</th>\n",
       "      <th>term</th>\n",
       "      <th>int_rate</th>\n",
       "      <th>installment</th>\n",
       "      <th>grade</th>\n",
       "      <th>sub_grade</th>\n",
       "      <th>verification_status</th>\n",
       "      <th>issue_d</th>\n",
       "      <th>...</th>\n",
       "      <th>total_rec_int</th>\n",
       "      <th>total_rec_late_fee</th>\n",
       "      <th>recoveries</th>\n",
       "      <th>collection_recovery_fee</th>\n",
       "      <th>last_pymnt_d</th>\n",
       "      <th>last_pymnt_amnt</th>\n",
       "      <th>next_pymnt_d</th>\n",
       "      <th>last_credit_pull_d</th>\n",
       "      <th>collections_12_mths_ex_med</th>\n",
       "      <th>pub_rec_bankruptcies</th>\n",
       "    </tr>\n",
       "  </thead>\n",
       "  <tbody>\n",
       "    <tr>\n",
       "      <th>0</th>\n",
       "      <td>5000</td>\n",
       "      <td>5000</td>\n",
       "      <td>4975.0</td>\n",
       "      <td>36 months</td>\n",
       "      <td>0.1065</td>\n",
       "      <td>162.87</td>\n",
       "      <td>B</td>\n",
       "      <td>B2</td>\n",
       "      <td>Verified</td>\n",
       "      <td>Dec-11</td>\n",
       "      <td>...</td>\n",
       "      <td>863.16</td>\n",
       "      <td>0.00</td>\n",
       "      <td>0.00</td>\n",
       "      <td>0.00</td>\n",
       "      <td>Jan-15</td>\n",
       "      <td>171.62</td>\n",
       "      <td>NaN</td>\n",
       "      <td>May-16</td>\n",
       "      <td>0.0</td>\n",
       "      <td>0.0</td>\n",
       "    </tr>\n",
       "    <tr>\n",
       "      <th>1</th>\n",
       "      <td>2500</td>\n",
       "      <td>2500</td>\n",
       "      <td>2500.0</td>\n",
       "      <td>60 months</td>\n",
       "      <td>0.1527</td>\n",
       "      <td>59.83</td>\n",
       "      <td>C</td>\n",
       "      <td>C4</td>\n",
       "      <td>Source Verified</td>\n",
       "      <td>Dec-11</td>\n",
       "      <td>...</td>\n",
       "      <td>435.17</td>\n",
       "      <td>0.00</td>\n",
       "      <td>117.08</td>\n",
       "      <td>1.11</td>\n",
       "      <td>Apr-13</td>\n",
       "      <td>119.66</td>\n",
       "      <td>NaN</td>\n",
       "      <td>Sep-13</td>\n",
       "      <td>0.0</td>\n",
       "      <td>0.0</td>\n",
       "    </tr>\n",
       "    <tr>\n",
       "      <th>2</th>\n",
       "      <td>2400</td>\n",
       "      <td>2400</td>\n",
       "      <td>2400.0</td>\n",
       "      <td>36 months</td>\n",
       "      <td>0.1596</td>\n",
       "      <td>84.33</td>\n",
       "      <td>C</td>\n",
       "      <td>C5</td>\n",
       "      <td>Not Verified</td>\n",
       "      <td>Dec-11</td>\n",
       "      <td>...</td>\n",
       "      <td>605.67</td>\n",
       "      <td>0.00</td>\n",
       "      <td>0.00</td>\n",
       "      <td>0.00</td>\n",
       "      <td>Jun-14</td>\n",
       "      <td>649.91</td>\n",
       "      <td>NaN</td>\n",
       "      <td>May-16</td>\n",
       "      <td>0.0</td>\n",
       "      <td>0.0</td>\n",
       "    </tr>\n",
       "    <tr>\n",
       "      <th>3</th>\n",
       "      <td>10000</td>\n",
       "      <td>10000</td>\n",
       "      <td>10000.0</td>\n",
       "      <td>36 months</td>\n",
       "      <td>0.1349</td>\n",
       "      <td>339.31</td>\n",
       "      <td>C</td>\n",
       "      <td>C1</td>\n",
       "      <td>Source Verified</td>\n",
       "      <td>Dec-11</td>\n",
       "      <td>...</td>\n",
       "      <td>2214.92</td>\n",
       "      <td>16.97</td>\n",
       "      <td>0.00</td>\n",
       "      <td>0.00</td>\n",
       "      <td>Jan-15</td>\n",
       "      <td>357.48</td>\n",
       "      <td>NaN</td>\n",
       "      <td>Apr-16</td>\n",
       "      <td>0.0</td>\n",
       "      <td>0.0</td>\n",
       "    </tr>\n",
       "    <tr>\n",
       "      <th>4</th>\n",
       "      <td>3000</td>\n",
       "      <td>3000</td>\n",
       "      <td>3000.0</td>\n",
       "      <td>60 months</td>\n",
       "      <td>0.1269</td>\n",
       "      <td>67.79</td>\n",
       "      <td>B</td>\n",
       "      <td>B5</td>\n",
       "      <td>Source Verified</td>\n",
       "      <td>Dec-11</td>\n",
       "      <td>...</td>\n",
       "      <td>1037.39</td>\n",
       "      <td>0.00</td>\n",
       "      <td>0.00</td>\n",
       "      <td>0.00</td>\n",
       "      <td>May-16</td>\n",
       "      <td>67.79</td>\n",
       "      <td>Jun-16</td>\n",
       "      <td>May-16</td>\n",
       "      <td>0.0</td>\n",
       "      <td>0.0</td>\n",
       "    </tr>\n",
       "  </tbody>\n",
       "</table>\n",
       "<p>5 rows × 38 columns</p>\n",
       "</div>"
      ],
      "text/plain": [
       "   loan_amnt  funded_amnt  funded_amnt_inv        term  int_rate  installment  \\\n",
       "0       5000         5000           4975.0   36 months    0.1065       162.87   \n",
       "1       2500         2500           2500.0   60 months    0.1527        59.83   \n",
       "2       2400         2400           2400.0   36 months    0.1596        84.33   \n",
       "3      10000        10000          10000.0   36 months    0.1349       339.31   \n",
       "4       3000         3000           3000.0   60 months    0.1269        67.79   \n",
       "\n",
       "  grade sub_grade verification_status issue_d  ... total_rec_int  \\\n",
       "0     B        B2            Verified  Dec-11  ...        863.16   \n",
       "1     C        C4     Source Verified  Dec-11  ...        435.17   \n",
       "2     C        C5        Not Verified  Dec-11  ...        605.67   \n",
       "3     C        C1     Source Verified  Dec-11  ...       2214.92   \n",
       "4     B        B5     Source Verified  Dec-11  ...       1037.39   \n",
       "\n",
       "  total_rec_late_fee  recoveries  collection_recovery_fee last_pymnt_d  \\\n",
       "0               0.00        0.00                     0.00       Jan-15   \n",
       "1               0.00      117.08                     1.11       Apr-13   \n",
       "2               0.00        0.00                     0.00       Jun-14   \n",
       "3              16.97        0.00                     0.00       Jan-15   \n",
       "4               0.00        0.00                     0.00       May-16   \n",
       "\n",
       "   last_pymnt_amnt  next_pymnt_d  last_credit_pull_d  \\\n",
       "0           171.62           NaN              May-16   \n",
       "1           119.66           NaN              Sep-13   \n",
       "2           649.91           NaN              May-16   \n",
       "3           357.48           NaN              Apr-16   \n",
       "4            67.79        Jun-16              May-16   \n",
       "\n",
       "   collections_12_mths_ex_med  pub_rec_bankruptcies  \n",
       "0                         0.0                   0.0  \n",
       "1                         0.0                   0.0  \n",
       "2                         0.0                   0.0  \n",
       "3                         0.0                   0.0  \n",
       "4                         0.0                   0.0  \n",
       "\n",
       "[5 rows x 38 columns]"
      ]
     },
     "execution_count": 236,
     "metadata": {},
     "output_type": "execute_result"
    }
   ],
   "source": [
    "data_loan['int_rate'] = data_loan['int_rate'].replace('%','', regex = True)  #Removing % sign in int_rate column and converting from string to float and dividing it by 100\n",
    "data_loan['int_rate'] = (data_loan['int_rate'].map(float))/100\n",
    "data_loan['revol_util'] = data_loan['revol_util'].replace('%','', regex = True)  #Removing % sign in int_rate column and converting from string to float and dividing it by 100\n",
    "data_loan['revol_util'] = (data_loan['revol_util'].map(float))/100\n",
    "data_loan.head()\n",
    "data_loan.head()"
   ]
  },
  {
   "cell_type": "code",
   "execution_count": 237,
   "id": "e3945816",
   "metadata": {},
   "outputs": [
    {
     "data": {
      "text/html": [
       "<div>\n",
       "<style scoped>\n",
       "    .dataframe tbody tr th:only-of-type {\n",
       "        vertical-align: middle;\n",
       "    }\n",
       "\n",
       "    .dataframe tbody tr th {\n",
       "        vertical-align: top;\n",
       "    }\n",
       "\n",
       "    .dataframe thead th {\n",
       "        text-align: right;\n",
       "    }\n",
       "</style>\n",
       "<table border=\"1\" class=\"dataframe\">\n",
       "  <thead>\n",
       "    <tr style=\"text-align: right;\">\n",
       "      <th></th>\n",
       "      <th>loan_amnt</th>\n",
       "      <th>funded_amnt</th>\n",
       "      <th>funded_amnt_inv</th>\n",
       "      <th>term</th>\n",
       "      <th>int_rate</th>\n",
       "      <th>installment</th>\n",
       "      <th>grade</th>\n",
       "      <th>sub_grade</th>\n",
       "      <th>verification_status</th>\n",
       "      <th>issue_d</th>\n",
       "      <th>...</th>\n",
       "      <th>total_rec_int</th>\n",
       "      <th>total_rec_late_fee</th>\n",
       "      <th>recoveries</th>\n",
       "      <th>collection_recovery_fee</th>\n",
       "      <th>last_pymnt_d</th>\n",
       "      <th>last_pymnt_amnt</th>\n",
       "      <th>next_pymnt_d</th>\n",
       "      <th>last_credit_pull_d</th>\n",
       "      <th>collections_12_mths_ex_med</th>\n",
       "      <th>pub_rec_bankruptcies</th>\n",
       "    </tr>\n",
       "  </thead>\n",
       "  <tbody>\n",
       "    <tr>\n",
       "      <th>0</th>\n",
       "      <td>5000</td>\n",
       "      <td>5000</td>\n",
       "      <td>4975.0</td>\n",
       "      <td>36 months</td>\n",
       "      <td>0.1065</td>\n",
       "      <td>162.87</td>\n",
       "      <td>B</td>\n",
       "      <td>B2</td>\n",
       "      <td>Verified</td>\n",
       "      <td>Dec-11</td>\n",
       "      <td>...</td>\n",
       "      <td>863.16</td>\n",
       "      <td>0.00</td>\n",
       "      <td>0.00</td>\n",
       "      <td>0.00</td>\n",
       "      <td>Jan-15</td>\n",
       "      <td>171.62</td>\n",
       "      <td>NaN</td>\n",
       "      <td>May-16</td>\n",
       "      <td>0.0</td>\n",
       "      <td>0.0</td>\n",
       "    </tr>\n",
       "    <tr>\n",
       "      <th>1</th>\n",
       "      <td>2500</td>\n",
       "      <td>2500</td>\n",
       "      <td>2500.0</td>\n",
       "      <td>60 months</td>\n",
       "      <td>0.1527</td>\n",
       "      <td>59.83</td>\n",
       "      <td>C</td>\n",
       "      <td>C4</td>\n",
       "      <td>Source Verified</td>\n",
       "      <td>Dec-11</td>\n",
       "      <td>...</td>\n",
       "      <td>435.17</td>\n",
       "      <td>0.00</td>\n",
       "      <td>117.08</td>\n",
       "      <td>1.11</td>\n",
       "      <td>Apr-13</td>\n",
       "      <td>119.66</td>\n",
       "      <td>NaN</td>\n",
       "      <td>Sep-13</td>\n",
       "      <td>0.0</td>\n",
       "      <td>0.0</td>\n",
       "    </tr>\n",
       "    <tr>\n",
       "      <th>2</th>\n",
       "      <td>2400</td>\n",
       "      <td>2400</td>\n",
       "      <td>2400.0</td>\n",
       "      <td>36 months</td>\n",
       "      <td>0.1596</td>\n",
       "      <td>84.33</td>\n",
       "      <td>C</td>\n",
       "      <td>C5</td>\n",
       "      <td>Not Verified</td>\n",
       "      <td>Dec-11</td>\n",
       "      <td>...</td>\n",
       "      <td>605.67</td>\n",
       "      <td>0.00</td>\n",
       "      <td>0.00</td>\n",
       "      <td>0.00</td>\n",
       "      <td>Jun-14</td>\n",
       "      <td>649.91</td>\n",
       "      <td>NaN</td>\n",
       "      <td>May-16</td>\n",
       "      <td>0.0</td>\n",
       "      <td>0.0</td>\n",
       "    </tr>\n",
       "    <tr>\n",
       "      <th>3</th>\n",
       "      <td>10000</td>\n",
       "      <td>10000</td>\n",
       "      <td>10000.0</td>\n",
       "      <td>36 months</td>\n",
       "      <td>0.1349</td>\n",
       "      <td>339.31</td>\n",
       "      <td>C</td>\n",
       "      <td>C1</td>\n",
       "      <td>Source Verified</td>\n",
       "      <td>Dec-11</td>\n",
       "      <td>...</td>\n",
       "      <td>2214.92</td>\n",
       "      <td>16.97</td>\n",
       "      <td>0.00</td>\n",
       "      <td>0.00</td>\n",
       "      <td>Jan-15</td>\n",
       "      <td>357.48</td>\n",
       "      <td>NaN</td>\n",
       "      <td>Apr-16</td>\n",
       "      <td>0.0</td>\n",
       "      <td>0.0</td>\n",
       "    </tr>\n",
       "    <tr>\n",
       "      <th>4</th>\n",
       "      <td>3000</td>\n",
       "      <td>3000</td>\n",
       "      <td>3000.0</td>\n",
       "      <td>60 months</td>\n",
       "      <td>0.1269</td>\n",
       "      <td>67.79</td>\n",
       "      <td>B</td>\n",
       "      <td>B5</td>\n",
       "      <td>Source Verified</td>\n",
       "      <td>Dec-11</td>\n",
       "      <td>...</td>\n",
       "      <td>1037.39</td>\n",
       "      <td>0.00</td>\n",
       "      <td>0.00</td>\n",
       "      <td>0.00</td>\n",
       "      <td>May-16</td>\n",
       "      <td>67.79</td>\n",
       "      <td>Jun-16</td>\n",
       "      <td>May-16</td>\n",
       "      <td>0.0</td>\n",
       "      <td>0.0</td>\n",
       "    </tr>\n",
       "  </tbody>\n",
       "</table>\n",
       "<p>5 rows × 38 columns</p>\n",
       "</div>"
      ],
      "text/plain": [
       "   loan_amnt  funded_amnt  funded_amnt_inv        term  int_rate  installment  \\\n",
       "0       5000         5000           4975.0   36 months    0.1065       162.87   \n",
       "1       2500         2500           2500.0   60 months    0.1527        59.83   \n",
       "2       2400         2400           2400.0   36 months    0.1596        84.33   \n",
       "3      10000        10000          10000.0   36 months    0.1349       339.31   \n",
       "4       3000         3000           3000.0   60 months    0.1269        67.79   \n",
       "\n",
       "  grade sub_grade verification_status issue_d  ... total_rec_int  \\\n",
       "0     B        B2            Verified  Dec-11  ...        863.16   \n",
       "1     C        C4     Source Verified  Dec-11  ...        435.17   \n",
       "2     C        C5        Not Verified  Dec-11  ...        605.67   \n",
       "3     C        C1     Source Verified  Dec-11  ...       2214.92   \n",
       "4     B        B5     Source Verified  Dec-11  ...       1037.39   \n",
       "\n",
       "  total_rec_late_fee  recoveries  collection_recovery_fee last_pymnt_d  \\\n",
       "0               0.00        0.00                     0.00       Jan-15   \n",
       "1               0.00      117.08                     1.11       Apr-13   \n",
       "2               0.00        0.00                     0.00       Jun-14   \n",
       "3              16.97        0.00                     0.00       Jan-15   \n",
       "4               0.00        0.00                     0.00       May-16   \n",
       "\n",
       "   last_pymnt_amnt  next_pymnt_d  last_credit_pull_d  \\\n",
       "0           171.62           NaN              May-16   \n",
       "1           119.66           NaN              Sep-13   \n",
       "2           649.91           NaN              May-16   \n",
       "3           357.48           NaN              Apr-16   \n",
       "4            67.79        Jun-16              May-16   \n",
       "\n",
       "   collections_12_mths_ex_med  pub_rec_bankruptcies  \n",
       "0                         0.0                   0.0  \n",
       "1                         0.0                   0.0  \n",
       "2                         0.0                   0.0  \n",
       "3                         0.0                   0.0  \n",
       "4                         0.0                   0.0  \n",
       "\n",
       "[5 rows x 38 columns]"
      ]
     },
     "execution_count": 237,
     "metadata": {},
     "output_type": "execute_result"
    }
   ],
   "source": [
    "data_loan.head()"
   ]
  },
  {
   "cell_type": "code",
   "execution_count": 238,
   "id": "c7798fbf",
   "metadata": {},
   "outputs": [],
   "source": [
    "def plot_hist(data,column):\n",
    "    \n",
    "    #Distribution plot of interest rate of charged off consumers\n",
    "    sns.displot(x = column,data = data_char_of, kde = True)\n",
    "    plt.title(f\"{column} Distribution\\n\")\n",
    "    plt.show()\n",
    "    \n",
    "    return"
   ]
  },
  {
   "cell_type": "code",
   "execution_count": 239,
   "id": "fac973f4",
   "metadata": {},
   "outputs": [],
   "source": [
    "# data_grade_ch_off = data_loan[data_loan['loan_status']]"
   ]
  },
  {
   "cell_type": "code",
   "execution_count": 240,
   "id": "dbb0a2bb",
   "metadata": {},
   "outputs": [
    {
     "data": {
      "text/plain": [
       "array(['B2', 'C4', 'C5', 'C1', 'B5', 'A4', 'E1', 'F2', 'C3', 'B1', 'D1',\n",
       "       'A1', 'B3', 'B4', 'C2', 'D2', 'A3', 'A5', 'D5', 'A2', 'E4', 'D3',\n",
       "       'D4', 'F3', 'E3', 'F4', 'F1', 'E5', 'G4', 'E2', 'G3', 'G2', 'G1',\n",
       "       'F5', 'G5'], dtype=object)"
      ]
     },
     "execution_count": 240,
     "metadata": {},
     "output_type": "execute_result"
    }
   ],
   "source": [
    "data_loan['sub_grade'].unique()"
   ]
  },
  {
   "cell_type": "code",
   "execution_count": 241,
   "id": "252563cf",
   "metadata": {},
   "outputs": [
    {
     "data": {
      "image/png": "[encoded data removed]",
      "text/plain": [
       "<Figure size 1440x720 with 1 Axes>"
      ]
     },
     "metadata": {
      "needs_background": "light"
     },
     "output_type": "display_data"
    }
   ],
   "source": [
    "stacked_chart(data_loan,'sub_grade','loan_status')\n",
    "plt.title('sub_grade count vs loan_status\\n')   #creating stacked chart for sub_grade vs loan_status\n",
    "plt.ylabel('Count of sub_grade')\n",
    "plt.show()"
   ]
  },
  {
   "cell_type": "markdown",
   "id": "ca60be6e",
   "metadata": {},
   "source": [
    "1) As we can see from the chart for charged off consumers, most charged off consumers are falling in B5 sub_grade. There are other sub_grades as well where charged off consumers are falling.\n",
    "\n",
    "2) As we can see from the chart for fully paid consumers, most Fully Paid consumers are falling in B3 sub_grade. There are other sub_grades as well where Fully paid consumers are falling.\n",
    "\n",
    "Hence, as we saw above sub_grades are important when considering any consumers like charged_off, fully paid."
   ]
  },
  {
   "cell_type": "code",
   "execution_count": 242,
   "id": "d9a2d31f",
   "metadata": {},
   "outputs": [
    {
     "data": {
      "image/png": "[encoded data removed]",
      "text/plain": [
       "<Figure size 1440x720 with 1 Axes>"
      ]
     },
     "metadata": {
      "needs_background": "light"
     },
     "output_type": "display_data"
    }
   ],
   "source": [
    "stacked_chart(data_loan,'verification_status','loan_status')\n",
    "plt.title('verification_status count vs loan_status\\n')   #creating stacked chart for verification_status vs loan_status\n",
    "plt.ylabel('Count of verification_status')\n",
    "plt.show()"
   ]
  },
  {
   "cell_type": "markdown",
   "id": "49c7148f",
   "metadata": {},
   "source": [
    "As we can see from the chart that there are lot of consumers who have fully paid the loan irrespective of verification status. Also, if we see in charged off consumers it is less where Source Verified segments but more or less equal in Not Verified & Verified segments."
   ]
  },
  {
   "cell_type": "code",
   "execution_count": 243,
   "id": "707c524b",
   "metadata": {
    "scrolled": true
   },
   "outputs": [
    {
     "data": {
      "text/plain": [
       "array(['credit_card', 'car', 'small_business', 'other', 'wedding',\n",
       "       'debt_consolidation', 'home_improvement', 'major_purchase',\n",
       "       'medical', 'moving', 'vacation', 'house', 'renewable_energy',\n",
       "       'educational'], dtype=object)"
      ]
     },
     "execution_count": 243,
     "metadata": {},
     "output_type": "execute_result"
    }
   ],
   "source": [
    "data_loan['purpose'].unique()"
   ]
  },
  {
   "cell_type": "markdown",
   "id": "e2272716",
   "metadata": {},
   "source": [
    "##### Purpose vs loan_status"
   ]
  },
  {
   "cell_type": "code",
   "execution_count": 244,
   "id": "403df40e",
   "metadata": {},
   "outputs": [
    {
     "data": {
      "image/png": "[encoded data removed]",
      "text/plain": [
       "<Figure size 1440x720 with 1 Axes>"
      ]
     },
     "metadata": {
      "needs_background": "light"
     },
     "output_type": "display_data"
    }
   ],
   "source": [
    "stacked_chart(data_loan,'purpose','loan_status')\n",
    "plt.title('purpose count vs loan_status\\n')   #creating stacked chart for purpose vs loan_status\n",
    "plt.ylabel('Count of purpose')\n",
    "plt.show()"
   ]
  },
  {
   "cell_type": "markdown",
   "id": "adba2dd5",
   "metadata": {},
   "source": [
    "1) As we can see from the chart that purpose of loan having debt_consolidation is high in charged off consumers followed by other purpose of loan like credit_card,other,small_business,major_purchase,car etc.\n",
    "\n",
    "Hence, purpose can also be driving factor for charged off consumers"
   ]
  },
  {
   "cell_type": "markdown",
   "id": "9077518a",
   "metadata": {},
   "source": [
    "##### DTI vs loan_status"
   ]
  },
  {
   "cell_type": "code",
   "execution_count": 245,
   "id": "81f6a4ad",
   "metadata": {},
   "outputs": [],
   "source": [
    "def calc_quantile(df,column):\n",
    "    \n",
    "    q_50 = df[column].quantile(0.5)     #Method to calculate 50th & 75th percentile\n",
    "    q_75 = df[column].quantile(0.75)\n",
    "    \n",
    "    return q_50,q_75"
   ]
  },
  {
   "cell_type": "code",
   "execution_count": 246,
   "id": "4a3b15bb",
   "metadata": {},
   "outputs": [],
   "source": [
    "def box_plt(df,column):\n",
    "    \n",
    "    df[column].plot.box(figsize = (10,5))   #Method to create box plot\n",
    "    \n",
    "    return"
   ]
  },
  {
   "cell_type": "code",
   "execution_count": 247,
   "id": "00b62684",
   "metadata": {},
   "outputs": [
    {
     "data": {
      "text/plain": [
       "0"
      ]
     },
     "execution_count": 247,
     "metadata": {},
     "output_type": "execute_result"
    }
   ],
   "source": [
    "data_loan['dti'].isnull().sum()  #checking null values in dti column"
   ]
  },
  {
   "cell_type": "code",
   "execution_count": 248,
   "id": "acc17079",
   "metadata": {},
   "outputs": [
    {
     "data": {
      "text/html": [
       "<div>\n",
       "<style scoped>\n",
       "    .dataframe tbody tr th:only-of-type {\n",
       "        vertical-align: middle;\n",
       "    }\n",
       "\n",
       "    .dataframe tbody tr th {\n",
       "        vertical-align: top;\n",
       "    }\n",
       "\n",
       "    .dataframe thead th {\n",
       "        text-align: right;\n",
       "    }\n",
       "</style>\n",
       "<table border=\"1\" class=\"dataframe\">\n",
       "  <thead>\n",
       "    <tr style=\"text-align: right;\">\n",
       "      <th></th>\n",
       "      <th>loan_amnt</th>\n",
       "      <th>funded_amnt</th>\n",
       "      <th>funded_amnt_inv</th>\n",
       "      <th>term</th>\n",
       "      <th>int_rate</th>\n",
       "      <th>installment</th>\n",
       "      <th>grade</th>\n",
       "      <th>sub_grade</th>\n",
       "      <th>verification_status</th>\n",
       "      <th>issue_d</th>\n",
       "      <th>...</th>\n",
       "      <th>total_rec_int</th>\n",
       "      <th>total_rec_late_fee</th>\n",
       "      <th>recoveries</th>\n",
       "      <th>collection_recovery_fee</th>\n",
       "      <th>last_pymnt_d</th>\n",
       "      <th>last_pymnt_amnt</th>\n",
       "      <th>next_pymnt_d</th>\n",
       "      <th>last_credit_pull_d</th>\n",
       "      <th>collections_12_mths_ex_med</th>\n",
       "      <th>pub_rec_bankruptcies</th>\n",
       "    </tr>\n",
       "  </thead>\n",
       "  <tbody>\n",
       "    <tr>\n",
       "      <th>1</th>\n",
       "      <td>2500</td>\n",
       "      <td>2500</td>\n",
       "      <td>2500.0</td>\n",
       "      <td>60 months</td>\n",
       "      <td>0.1527</td>\n",
       "      <td>59.83</td>\n",
       "      <td>C</td>\n",
       "      <td>C4</td>\n",
       "      <td>Source Verified</td>\n",
       "      <td>Dec-11</td>\n",
       "      <td>...</td>\n",
       "      <td>435.17</td>\n",
       "      <td>0.0</td>\n",
       "      <td>117.08</td>\n",
       "      <td>1.1100</td>\n",
       "      <td>Apr-13</td>\n",
       "      <td>119.66</td>\n",
       "      <td>NaN</td>\n",
       "      <td>Sep-13</td>\n",
       "      <td>0.0</td>\n",
       "      <td>0.0</td>\n",
       "    </tr>\n",
       "    <tr>\n",
       "      <th>8</th>\n",
       "      <td>5600</td>\n",
       "      <td>5600</td>\n",
       "      <td>5600.0</td>\n",
       "      <td>60 months</td>\n",
       "      <td>0.2128</td>\n",
       "      <td>152.39</td>\n",
       "      <td>F</td>\n",
       "      <td>F2</td>\n",
       "      <td>Source Verified</td>\n",
       "      <td>Dec-11</td>\n",
       "      <td>...</td>\n",
       "      <td>294.94</td>\n",
       "      <td>0.0</td>\n",
       "      <td>189.06</td>\n",
       "      <td>2.0900</td>\n",
       "      <td>Apr-12</td>\n",
       "      <td>152.39</td>\n",
       "      <td>NaN</td>\n",
       "      <td>Aug-12</td>\n",
       "      <td>0.0</td>\n",
       "      <td>0.0</td>\n",
       "    </tr>\n",
       "    <tr>\n",
       "      <th>9</th>\n",
       "      <td>5375</td>\n",
       "      <td>5375</td>\n",
       "      <td>5350.0</td>\n",
       "      <td>60 months</td>\n",
       "      <td>0.1269</td>\n",
       "      <td>121.45</td>\n",
       "      <td>B</td>\n",
       "      <td>B5</td>\n",
       "      <td>Verified</td>\n",
       "      <td>Dec-11</td>\n",
       "      <td>...</td>\n",
       "      <td>533.42</td>\n",
       "      <td>0.0</td>\n",
       "      <td>269.29</td>\n",
       "      <td>2.5200</td>\n",
       "      <td>Nov-12</td>\n",
       "      <td>121.45</td>\n",
       "      <td>NaN</td>\n",
       "      <td>Mar-13</td>\n",
       "      <td>0.0</td>\n",
       "      <td>0.0</td>\n",
       "    </tr>\n",
       "    <tr>\n",
       "      <th>12</th>\n",
       "      <td>9000</td>\n",
       "      <td>9000</td>\n",
       "      <td>9000.0</td>\n",
       "      <td>36 months</td>\n",
       "      <td>0.1349</td>\n",
       "      <td>305.38</td>\n",
       "      <td>C</td>\n",
       "      <td>C1</td>\n",
       "      <td>Source Verified</td>\n",
       "      <td>Dec-11</td>\n",
       "      <td>...</td>\n",
       "      <td>570.26</td>\n",
       "      <td>0.0</td>\n",
       "      <td>444.30</td>\n",
       "      <td>4.1600</td>\n",
       "      <td>Jul-12</td>\n",
       "      <td>305.38</td>\n",
       "      <td>NaN</td>\n",
       "      <td>Nov-12</td>\n",
       "      <td>0.0</td>\n",
       "      <td>0.0</td>\n",
       "    </tr>\n",
       "    <tr>\n",
       "      <th>14</th>\n",
       "      <td>10000</td>\n",
       "      <td>10000</td>\n",
       "      <td>10000.0</td>\n",
       "      <td>36 months</td>\n",
       "      <td>0.1065</td>\n",
       "      <td>325.74</td>\n",
       "      <td>B</td>\n",
       "      <td>B2</td>\n",
       "      <td>Source Verified</td>\n",
       "      <td>Dec-11</td>\n",
       "      <td>...</td>\n",
       "      <td>1393.42</td>\n",
       "      <td>0.0</td>\n",
       "      <td>645.10</td>\n",
       "      <td>6.3145</td>\n",
       "      <td>Oct-13</td>\n",
       "      <td>325.74</td>\n",
       "      <td>NaN</td>\n",
       "      <td>Mar-14</td>\n",
       "      <td>0.0</td>\n",
       "      <td>0.0</td>\n",
       "    </tr>\n",
       "  </tbody>\n",
       "</table>\n",
       "<p>5 rows × 38 columns</p>\n",
       "</div>"
      ],
      "text/plain": [
       "    loan_amnt  funded_amnt  funded_amnt_inv        term  int_rate  \\\n",
       "1        2500         2500           2500.0   60 months    0.1527   \n",
       "8        5600         5600           5600.0   60 months    0.2128   \n",
       "9        5375         5375           5350.0   60 months    0.1269   \n",
       "12       9000         9000           9000.0   36 months    0.1349   \n",
       "14      10000        10000          10000.0   36 months    0.1065   \n",
       "\n",
       "    installment grade sub_grade verification_status issue_d  ...  \\\n",
       "1         59.83     C        C4     Source Verified  Dec-11  ...   \n",
       "8        152.39     F        F2     Source Verified  Dec-11  ...   \n",
       "9        121.45     B        B5            Verified  Dec-11  ...   \n",
       "12       305.38     C        C1     Source Verified  Dec-11  ...   \n",
       "14       325.74     B        B2     Source Verified  Dec-11  ...   \n",
       "\n",
       "   total_rec_int total_rec_late_fee  recoveries  collection_recovery_fee  \\\n",
       "1         435.17                0.0      117.08                   1.1100   \n",
       "8         294.94                0.0      189.06                   2.0900   \n",
       "9         533.42                0.0      269.29                   2.5200   \n",
       "12        570.26                0.0      444.30                   4.1600   \n",
       "14       1393.42                0.0      645.10                   6.3145   \n",
       "\n",
       "   last_pymnt_d  last_pymnt_amnt  next_pymnt_d  last_credit_pull_d  \\\n",
       "1        Apr-13           119.66           NaN              Sep-13   \n",
       "8        Apr-12           152.39           NaN              Aug-12   \n",
       "9        Nov-12           121.45           NaN              Mar-13   \n",
       "12       Jul-12           305.38           NaN              Nov-12   \n",
       "14       Oct-13           325.74           NaN              Mar-14   \n",
       "\n",
       "    collections_12_mths_ex_med  pub_rec_bankruptcies  \n",
       "1                          0.0                   0.0  \n",
       "8                          0.0                   0.0  \n",
       "9                          0.0                   0.0  \n",
       "12                         0.0                   0.0  \n",
       "14                         0.0                   0.0  \n",
       "\n",
       "[5 rows x 38 columns]"
      ]
     },
     "execution_count": 248,
     "metadata": {},
     "output_type": "execute_result"
    }
   ],
   "source": [
    "data_loan_charge_off = data_loan[data_loan['loan_status']=='Charged Off']\n",
    "data_loan_charge_off.head()"
   ]
  },
  {
   "cell_type": "code",
   "execution_count": 249,
   "id": "6982a35e",
   "metadata": {},
   "outputs": [
    {
     "data": {
      "text/plain": [
       "<seaborn.axisgrid.FacetGrid at 0x20caa799850>"
      ]
     },
     "execution_count": 249,
     "metadata": {},
     "output_type": "execute_result"
    },
    {
     "data": {
      "image/png": "[encoded data removed]",
      "text/plain": [
       "<Figure size 360x360 with 1 Axes>"
      ]
     },
     "metadata": {
      "needs_background": "light"
     },
     "output_type": "display_data"
    }
   ],
   "source": [
    "sns.displot(data = data_loan_charge_off, x = 'dti', kde = True)"
   ]
  },
  {
   "cell_type": "code",
   "execution_count": 250,
   "id": "1de973c2",
   "metadata": {},
   "outputs": [
    {
     "name": "stdout",
     "output_type": "stream",
     "text": [
      "50th percentile: 14.29\n",
      "75th percentile: 19.29\n"
     ]
    }
   ],
   "source": [
    "q_50,q_75 = calc_quantile(data_loan_charge_off,'dti')\n",
    "\n",
    "print('50th percentile:', q_50)\n",
    "print('75th percentile:', q_75)  #50th and 75th percentile"
   ]
  },
  {
   "cell_type": "code",
   "execution_count": 251,
   "id": "b99d7211",
   "metadata": {},
   "outputs": [
    {
     "data": {
      "image/png": "[encoded data removed]",
      "text/plain": [
       "<Figure size 720x360 with 1 Axes>"
      ]
     },
     "metadata": {
      "needs_background": "light"
     },
     "output_type": "display_data"
    }
   ],
   "source": [
    "box_plt(data_loan_charge_off,'dti')\n",
    "plt.title('Box Plot for DTI (Charged OFF)\\n')\n",
    "plt.show()"
   ]
  },
  {
   "cell_type": "markdown",
   "id": "8b35e5c0",
   "metadata": {},
   "source": [
    "1)As we can see from the distribution plot that for charged off consumers that 50% of the consumers who are charged off have dti less than 14.29.\n",
    "\n",
    "2) Also we can see that 75% of the charged of consumers have have dti less than 19.29"
   ]
  },
  {
   "cell_type": "code",
   "execution_count": 252,
   "id": "cb3d8f89",
   "metadata": {},
   "outputs": [],
   "source": [
    "data_loan_full = data_loan[data_loan['loan_status']=='Fully Paid']"
   ]
  },
  {
   "cell_type": "code",
   "execution_count": 253,
   "id": "1da6881f",
   "metadata": {},
   "outputs": [
    {
     "name": "stdout",
     "output_type": "stream",
     "text": [
      "50th percentile: 13.2\n",
      "75th percentile: 18.39\n"
     ]
    }
   ],
   "source": [
    "q_50,q_75 = calc_quantile(data_loan_full,'dti')\n",
    "\n",
    "print('50th percentile:', q_50)\n",
    "print('75th percentile:', q_75)  #50th and 75th percentile"
   ]
  },
  {
   "cell_type": "code",
   "execution_count": 254,
   "id": "41dbbb82",
   "metadata": {},
   "outputs": [
    {
     "data": {
      "image/png": "[encoded data removed]",
      "text/plain": [
       "<Figure size 720x360 with 1 Axes>"
      ]
     },
     "metadata": {
      "needs_background": "light"
     },
     "output_type": "display_data"
    }
   ],
   "source": [
    "box_plt(data_loan_full,'dti')\n",
    "plt.title('Box Plot for DTI(Fully Paid)\\n')\n",
    "plt.show()"
   ]
  },
  {
   "cell_type": "markdown",
   "id": "e466107d",
   "metadata": {},
   "source": [
    "1) As we can see from the plots and quartiles that charged off consumers have more dti compared to fully paid consumers.\n",
    "\n",
    "2) If we see from the values obtained 50% of consumers have dti<=14.29(for charged off) and dti<=13.2(for fully paid) where dti(charged off consumers are more) than dti(fully paid consumers). Hence charged off consumers have more monthly debts.\n",
    "\n",
    "3) If we see from the values obtained 75% of consumers have dti<=19.29(for charged off) and dti<=18.39(for fully paid) where dti(charged off consumers are more) than dti(fully paid consumers). Hence charged off consumers have more monthly debts."
   ]
  },
  {
   "cell_type": "code",
   "execution_count": 255,
   "id": "88def104",
   "metadata": {},
   "outputs": [
    {
     "data": {
      "text/plain": [
       "Index(['loan_amnt', 'funded_amnt', 'funded_amnt_inv', 'term', 'int_rate',\n",
       "       'installment', 'grade', 'sub_grade', 'verification_status', 'issue_d',\n",
       "       'loan_status', 'purpose', 'dti', 'delinq_2yrs', 'earliest_cr_line',\n",
       "       'inq_last_6mths', 'mths_since_last_delinq', 'mths_since_last_record',\n",
       "       'open_acc', 'pub_rec', 'revol_bal', 'revol_util', 'total_acc',\n",
       "       'out_prncp', 'out_prncp_inv', 'total_pymnt', 'total_pymnt_inv',\n",
       "       'total_rec_prncp', 'total_rec_int', 'total_rec_late_fee', 'recoveries',\n",
       "       'collection_recovery_fee', 'last_pymnt_d', 'last_pymnt_amnt',\n",
       "       'next_pymnt_d', 'last_credit_pull_d', 'collections_12_mths_ex_med',\n",
       "       'pub_rec_bankruptcies'],\n",
       "      dtype='object')"
      ]
     },
     "execution_count": 255,
     "metadata": {},
     "output_type": "execute_result"
    }
   ],
   "source": [
    "data_loan.columns"
   ]
  },
  {
   "cell_type": "code",
   "execution_count": 256,
   "id": "e54feb54",
   "metadata": {},
   "outputs": [
    {
     "data": {
      "image/png": "[encoded data removed]",
      "text/plain": [
       "<Figure size 1440x720 with 1 Axes>"
      ]
     },
     "metadata": {
      "needs_background": "light"
     },
     "output_type": "display_data"
    }
   ],
   "source": [
    "stacked_chart(data_loan,'inq_last_6mths','loan_status')\n",
    "plt.title('inq_last_6mths count vs loan_status\\n')   #creating stacked chart for inq_last_6mths vs loan_status\n",
    "plt.ylabel('Count of inq_last_6mths')\n",
    "plt.show()"
   ]
  },
  {
   "cell_type": "markdown",
   "id": "9939025c",
   "metadata": {},
   "source": [
    "As we can see from the stacked chart the more inquiry in last 6 months, the lesser consumers will come under charged off."
   ]
  },
  {
   "cell_type": "code",
   "execution_count": 257,
   "id": "9a7de0a5",
   "metadata": {},
   "outputs": [
    {
     "data": {
      "image/png": "[encoded data removed]",
      "text/plain": [
       "<Figure size 1440x720 with 1 Axes>"
      ]
     },
     "metadata": {
      "needs_background": "light"
     },
     "output_type": "display_data"
    }
   ],
   "source": [
    "stacked_chart(data_loan,'mths_since_last_delinq','loan_status')\n",
    "plt.title('mths_since_last_delinq count vs loan_status\\n')   #creating stacked chart for mths_since_last_delinq vs loan_status\n",
    "plt.ylabel('Count of mths_since_last_delinq')\n",
    "plt.show()"
   ]
  },
  {
   "cell_type": "markdown",
   "id": "8c16562a",
   "metadata": {},
   "source": [
    "As we can see that consumers in fully paid are more in mnths_since_last_delinq compared to charged off which tells us that icharged off consumers will be less having more mnth_since_last_delinq compared to fully paid consumers"
   ]
  },
  {
   "cell_type": "code",
   "execution_count": 258,
   "id": "0204aa2d",
   "metadata": {},
   "outputs": [
    {
     "data": {
      "image/png": "[encoded data removed]",
      "text/plain": [
       "<Figure size 1440x720 with 1 Axes>"
      ]
     },
     "metadata": {
      "needs_background": "light"
     },
     "output_type": "display_data"
    }
   ],
   "source": [
    "stacked_chart(data_loan,'mths_since_last_record','loan_status')\n",
    "plt.title('mths_since_last_record count vs loan_status\\n')   #creating stacked chart for mths_since_last_record vs loan_status\n",
    "plt.ylabel('Count of mths_since_last_record')\n",
    "plt.show()"
   ]
  },
  {
   "cell_type": "markdown",
   "id": "4c5b641c",
   "metadata": {},
   "source": [
    "As we know that public record remain on report for 7-10 years. If we see from the chart that for straight 7 years (84 month) very less consumers in charged off but after 7 years(84 months) there is a slight increase in the charged off consumers."
   ]
  },
  {
   "cell_type": "code",
   "execution_count": 259,
   "id": "c53a6b5c",
   "metadata": {},
   "outputs": [
    {
     "data": {
      "image/png": "[encoded data removed]",
      "text/plain": [
       "<Figure size 1440x720 with 1 Axes>"
      ]
     },
     "metadata": {
      "needs_background": "light"
     },
     "output_type": "display_data"
    }
   ],
   "source": [
    "stacked_chart(data_loan,'open_acc','loan_status')\n",
    "plt.title('open_acc count vs loan_status\\n')   #creating stacked chart for open_acc vs loan_status\n",
    "plt.ylabel('Count of open_acc')\n",
    "plt.show()"
   ]
  },
  {
   "cell_type": "markdown",
   "id": "804e3a45",
   "metadata": {},
   "source": [
    "As we can see from the stacked chart that there are less charged off consumers with open accounts whereas more fully paid consumers with open accounts(credit lines)."
   ]
  },
  {
   "cell_type": "code",
   "execution_count": 260,
   "id": "9356960e",
   "metadata": {},
   "outputs": [
    {
     "data": {
      "text/html": [
       "<style type=\"text/css\">\n",
       "#T_b9831_row0_col0 {\n",
       "  background-color: #d1e6d1;\n",
       "  color: #000000;\n",
       "}\n",
       "#T_b9831_row1_col0 {\n",
       "  background-color: #ebf3eb;\n",
       "  color: #000000;\n",
       "}\n",
       "#T_b9831_row2_col0 {\n",
       "  background-color: #299429;\n",
       "  color: #f1f1f1;\n",
       "}\n",
       "#T_b9831_row3_col0 {\n",
       "  background-color: #008000;\n",
       "  color: #f1f1f1;\n",
       "}\n",
       "</style>\n",
       "<table id=\"T_b9831\">\n",
       "  <thead>\n",
       "    <tr>\n",
       "      <th class=\"blank level0\" >&nbsp;</th>\n",
       "      <th id=\"T_b9831_level0_col0\" class=\"col_heading level0 col0\" >open_acc</th>\n",
       "    </tr>\n",
       "    <tr>\n",
       "      <th class=\"index_name level0\" >loan_status</th>\n",
       "      <th class=\"blank col0\" >&nbsp;</th>\n",
       "    </tr>\n",
       "  </thead>\n",
       "  <tbody>\n",
       "    <tr>\n",
       "      <th id=\"T_b9831_level0_row0\" class=\"row_heading level0 row0\" >Charged Off</th>\n",
       "      <td id=\"T_b9831_row0_col0\" class=\"data row0 col0\" >51645</td>\n",
       "    </tr>\n",
       "    <tr>\n",
       "      <th id=\"T_b9831_level0_row1\" class=\"row_heading level0 row1\" >Current</th>\n",
       "      <td id=\"T_b9831_row1_col0\" class=\"data row1 col0\" >11328</td>\n",
       "    </tr>\n",
       "    <tr>\n",
       "      <th id=\"T_b9831_level0_row2\" class=\"row_heading level0 row2\" >Fully Paid</th>\n",
       "      <td id=\"T_b9831_row2_col0\" class=\"data row2 col0\" >306173</td>\n",
       "    </tr>\n",
       "    <tr>\n",
       "      <th id=\"T_b9831_level0_row3\" class=\"row_heading level0 row3\" >All</th>\n",
       "      <td id=\"T_b9831_row3_col0\" class=\"data row3 col0\" >369146</td>\n",
       "    </tr>\n",
       "  </tbody>\n",
       "</table>\n"
      ],
      "text/plain": [
       "<pandas.io.formats.style.Styler at 0x20caa6f0850>"
      ]
     },
     "execution_count": 260,
     "metadata": {},
     "output_type": "execute_result"
    }
   ],
   "source": [
    "res = pd.pivot_table(data = data_loan, index = ['loan_status'], values = 'open_acc', aggfunc='sum', margins = True)\n",
    "cm = sns.light_palette(\"green\", as_cmap = True)  #creating pivot table for loan_status vs open_acc\n",
    "res.style.background_gradient(cmap = cm)"
   ]
  },
  {
   "cell_type": "markdown",
   "id": "a865767e",
   "metadata": {},
   "source": [
    "As we can see that there are large no of open accounts for fully paid and lesser no of open accounts for charged off consumers."
   ]
  },
  {
   "cell_type": "code",
   "execution_count": 261,
   "id": "23ad395f",
   "metadata": {},
   "outputs": [
    {
     "data": {
      "image/png": "[encoded data removed]",
      "text/plain": [
       "<Figure size 1440x720 with 1 Axes>"
      ]
     },
     "metadata": {
      "needs_background": "light"
     },
     "output_type": "display_data"
    }
   ],
   "source": [
    "stacked_chart(data_loan,'pub_rec','loan_status')\n",
    "plt.title('pub_rec count vs loan_status\\n')   #creating stacked chart for pub_rec vs loan_status\n",
    "plt.ylabel('Count of pub_rec')\n",
    "plt.show()"
   ]
  },
  {
   "cell_type": "markdown",
   "id": "5e1035cb",
   "metadata": {},
   "source": [
    "As we can see from the chart that there are very few no of consumers who have public record in dataset"
   ]
  },
  {
   "cell_type": "markdown",
   "id": "329e49c2",
   "metadata": {},
   "source": [
    "##### Revolving Balance vs loan_status"
   ]
  },
  {
   "cell_type": "code",
   "execution_count": 262,
   "id": "ae28aa6e",
   "metadata": {},
   "outputs": [
    {
     "name": "stdout",
     "output_type": "stream",
     "text": [
      "50th percentile: 9211.0\n",
      "75th percentile: 17518.0\n"
     ]
    }
   ],
   "source": [
    "q_50,q_75 = calc_quantile(data_loan_charge_off,'revol_bal')\n",
    "\n",
    "print('50th percentile:', q_50)\n",
    "print('75th percentile:', q_75)  #50th and 75th percentile for charged off consumers"
   ]
  },
  {
   "cell_type": "code",
   "execution_count": 263,
   "id": "1a4a36d2",
   "metadata": {},
   "outputs": [
    {
     "name": "stdout",
     "output_type": "stream",
     "text": [
      "50th percentile: 8682.5\n",
      "75th percentile: 16804.75\n"
     ]
    }
   ],
   "source": [
    "q_50,q_75 = calc_quantile(data_loan_full,'revol_bal')\n",
    "\n",
    "print('50th percentile:', q_50)\n",
    "print('75th percentile:', q_75)  #50th and 75th percentile for fully paid consumers"
   ]
  },
  {
   "cell_type": "code",
   "execution_count": 264,
   "id": "723c4569",
   "metadata": {},
   "outputs": [
    {
     "data": {
      "image/png": "[encoded data removed]",
      "text/plain": [
       "<Figure size 720x360 with 1 Axes>"
      ]
     },
     "metadata": {
      "needs_background": "light"
     },
     "output_type": "display_data"
    }
   ],
   "source": [
    "box_plt(data_loan_charge_off,'revol_bal')\n",
    "plt.title('Box Plot for charged off consumers\\n')\n",
    "plt.show()"
   ]
  },
  {
   "cell_type": "code",
   "execution_count": 265,
   "id": "c2a5c7c6",
   "metadata": {},
   "outputs": [
    {
     "data": {
      "image/png": "[encoded data removed]",
      "text/plain": [
       "<Figure size 720x360 with 1 Axes>"
      ]
     },
     "metadata": {
      "needs_background": "light"
     },
     "output_type": "display_data"
    }
   ],
   "source": [
    "box_plt(data_loan_full,'revol_bal')\n",
    "plt.title('Box Plot for fully paid consumers\\n')\n",
    "plt.show()"
   ]
  },
  {
   "cell_type": "markdown",
   "id": "641d5f13",
   "metadata": {},
   "source": [
    "As we can see from the above plots and percentiles 50th & 75th percentile says that charged off consumers have more revolving balance compared to fully paid consumers"
   ]
  },
  {
   "cell_type": "markdown",
   "id": "77b22b51",
   "metadata": {},
   "source": [
    "##### revol_util vs loan_status"
   ]
  },
  {
   "cell_type": "code",
   "execution_count": 266,
   "id": "08596f0d",
   "metadata": {},
   "outputs": [
    {
     "name": "stdout",
     "output_type": "stream",
     "text": [
      "50th percentile: 0.584\n",
      "75th percentile: 0.79\n"
     ]
    }
   ],
   "source": [
    "q_50,q_75 = calc_quantile(data_loan_charge_off,'revol_util')\n",
    "\n",
    "print('50th percentile:', q_50)\n",
    "print('75th percentile:', q_75)  #50th and 75th percentile for charged off consumers"
   ]
  },
  {
   "cell_type": "code",
   "execution_count": 267,
   "id": "df16d73f",
   "metadata": {},
   "outputs": [
    {
     "name": "stdout",
     "output_type": "stream",
     "text": [
      "50th percentile: 0.47600000000000003\n",
      "75th percentile: 0.708\n"
     ]
    }
   ],
   "source": [
    "q_50,q_75 = calc_quantile(data_loan_full,'revol_util')\n",
    "\n",
    "print('50th percentile:', q_50)\n",
    "print('75th percentile:', q_75)  #50th and 75th percentile for fully paid consumers"
   ]
  },
  {
   "cell_type": "code",
   "execution_count": 268,
   "id": "78bb195f",
   "metadata": {},
   "outputs": [
    {
     "data": {
      "image/png": "[encoded data removed]",
      "text/plain": [
       "<Figure size 720x360 with 1 Axes>"
      ]
     },
     "metadata": {
      "needs_background": "light"
     },
     "output_type": "display_data"
    }
   ],
   "source": [
    "box_plt(data_loan_charge_off,'revol_util')\n",
    "plt.title('Box Plot for charged off consumers\\n')\n",
    "plt.show()"
   ]
  },
  {
   "cell_type": "code",
   "execution_count": 269,
   "id": "e183cf12",
   "metadata": {},
   "outputs": [
    {
     "data": {
      "image/png": "[encoded data removed]",
      "text/plain": [
       "<Figure size 720x360 with 1 Axes>"
      ]
     },
     "metadata": {
      "needs_background": "light"
     },
     "output_type": "display_data"
    }
   ],
   "source": [
    "box_plt(data_loan_full,'revol_util')\n",
    "plt.title('Box Plot for fully paid consumers\\n')\n",
    "plt.show()"
   ]
  },
  {
   "cell_type": "markdown",
   "id": "9d9540be",
   "metadata": {},
   "source": [
    "As we can see from the plots and 50th & 75th percentile that fully paid consumers have less revolving utilization but there is a high revolving utilization in charged off consumers"
   ]
  },
  {
   "cell_type": "code",
   "execution_count": 270,
   "id": "c7eb2f9b",
   "metadata": {},
   "outputs": [
    {
     "data": {
      "image/png": "[encoded data removed]",
      "text/plain": [
       "<Figure size 1440x720 with 1 Axes>"
      ]
     },
     "metadata": {
      "needs_background": "light"
     },
     "output_type": "display_data"
    }
   ],
   "source": [
    "stacked_chart(data_loan,'total_acc','loan_status')\n",
    "plt.title('total_acc count vs loan_status\\n')   #creating stacked chart for total_acc vs loan_status\n",
    "plt.ylabel('Count of total_acc')\n",
    "plt.show()"
   ]
  },
  {
   "cell_type": "code",
   "execution_count": 271,
   "id": "8953c38f",
   "metadata": {},
   "outputs": [
    {
     "data": {
      "text/html": [
       "<style type=\"text/css\">\n",
       "#T_82ae1_row0_col0 {\n",
       "  background-color: #d1e6d1;\n",
       "  color: #000000;\n",
       "}\n",
       "#T_82ae1_row1_col0 {\n",
       "  background-color: #ebf3eb;\n",
       "  color: #000000;\n",
       "}\n",
       "#T_82ae1_row2_col0 {\n",
       "  background-color: #289428;\n",
       "  color: #f1f1f1;\n",
       "}\n",
       "#T_82ae1_row3_col0 {\n",
       "  background-color: #008000;\n",
       "  color: #f1f1f1;\n",
       "}\n",
       "</style>\n",
       "<table id=\"T_82ae1\">\n",
       "  <thead>\n",
       "    <tr>\n",
       "      <th class=\"blank level0\" >&nbsp;</th>\n",
       "      <th id=\"T_82ae1_level0_col0\" class=\"col_heading level0 col0\" >total_acc</th>\n",
       "    </tr>\n",
       "    <tr>\n",
       "      <th class=\"index_name level0\" >loan_status</th>\n",
       "      <th class=\"blank col0\" >&nbsp;</th>\n",
       "    </tr>\n",
       "  </thead>\n",
       "  <tbody>\n",
       "    <tr>\n",
       "      <th id=\"T_82ae1_level0_row0\" class=\"row_heading level0 row0\" >Charged Off</th>\n",
       "      <td id=\"T_82ae1_row0_col0\" class=\"data row0 col0\" >120573</td>\n",
       "    </tr>\n",
       "    <tr>\n",
       "      <th id=\"T_82ae1_level0_row1\" class=\"row_heading level0 row1\" >Current</th>\n",
       "      <td id=\"T_82ae1_row1_col0\" class=\"data row1 col0\" >26577</td>\n",
       "    </tr>\n",
       "    <tr>\n",
       "      <th id=\"T_82ae1_level0_row2\" class=\"row_heading level0 row2\" >Fully Paid</th>\n",
       "      <td id=\"T_82ae1_row2_col0\" class=\"data row2 col0\" >730152</td>\n",
       "    </tr>\n",
       "    <tr>\n",
       "      <th id=\"T_82ae1_level0_row3\" class=\"row_heading level0 row3\" >All</th>\n",
       "      <td id=\"T_82ae1_row3_col0\" class=\"data row3 col0\" >877302</td>\n",
       "    </tr>\n",
       "  </tbody>\n",
       "</table>\n"
      ],
      "text/plain": [
       "<pandas.io.formats.style.Styler at 0x20caca57f40>"
      ]
     },
     "execution_count": 271,
     "metadata": {},
     "output_type": "execute_result"
    }
   ],
   "source": [
    "res = pd.pivot_table(data = data_loan, index = ['loan_status'], values = 'total_acc', aggfunc='sum', margins = True)\n",
    "cm = sns.light_palette(\"green\", as_cmap = True)\n",
    "res.style.background_gradient(cmap = cm)"
   ]
  },
  {
   "cell_type": "markdown",
   "id": "b6dc445a",
   "metadata": {},
   "source": [
    "As we can see from the charts and pivot table that there are large no of total accounts for fully paid consumers compared to charged off consumers. This can happen because generally charged off consumers will not be eligible much for loan or credit card compared to fully paid consumers."
   ]
  },
  {
   "cell_type": "markdown",
   "id": "e21cbcee",
   "metadata": {},
   "source": [
    "##### Recoveries vs loan_status"
   ]
  },
  {
   "cell_type": "code",
   "execution_count": 272,
   "id": "bf97a319",
   "metadata": {},
   "outputs": [],
   "source": [
    "data_rec = data_loan_charge_off.copy()                                   #Replaced where recovery has happened with 1\n",
    "data_rec['recoveries'] = np.where(data_rec['recoveries']==0,0,1)"
   ]
  },
  {
   "cell_type": "code",
   "execution_count": 273,
   "id": "21e55b69",
   "metadata": {},
   "outputs": [
    {
     "data": {
      "image/png": "[encoded data removed]",
      "text/plain": [
       "<Figure size 1440x720 with 1 Axes>"
      ]
     },
     "metadata": {
      "needs_background": "light"
     },
     "output_type": "display_data"
    }
   ],
   "source": [
    "stacked_chart(data_rec,'recoveries','loan_status')\n",
    "plt.title('recoveries count vs loan_status\\n')   #creating stacked chart for recoveries vs loan_status\n",
    "plt.ylabel('Count of recoveries')\n",
    "plt.show()"
   ]
  },
  {
   "cell_type": "markdown",
   "id": "5c0a4634",
   "metadata": {},
   "source": [
    "As we can see that some recovery has happened for charged off consumers but there are few consumers with whom there is still a need to recover the loan amount. This can also be a factor while lending loan to any consumer LC can check if the recovery has happened and how much the amount got recovered."
   ]
  },
  {
   "cell_type": "markdown",
   "id": "b5375e17",
   "metadata": {},
   "source": [
    "##### pub_rec_bankruptcies"
   ]
  },
  {
   "cell_type": "code",
   "execution_count": 274,
   "id": "b561ac38",
   "metadata": {},
   "outputs": [
    {
     "data": {
      "text/html": [
       "<div>\n",
       "<style scoped>\n",
       "    .dataframe tbody tr th:only-of-type {\n",
       "        vertical-align: middle;\n",
       "    }\n",
       "\n",
       "    .dataframe tbody tr th {\n",
       "        vertical-align: top;\n",
       "    }\n",
       "\n",
       "    .dataframe thead th {\n",
       "        text-align: right;\n",
       "    }\n",
       "</style>\n",
       "<table border=\"1\" class=\"dataframe\">\n",
       "  <thead>\n",
       "    <tr style=\"text-align: right;\">\n",
       "      <th></th>\n",
       "      <th>pub_rec_bankruptcies</th>\n",
       "      <th>loan_status</th>\n",
       "    </tr>\n",
       "  </thead>\n",
       "  <tbody>\n",
       "    <tr>\n",
       "      <th>0</th>\n",
       "      <td>0.0</td>\n",
       "      <td>Fully Paid</td>\n",
       "    </tr>\n",
       "    <tr>\n",
       "      <th>1</th>\n",
       "      <td>0.0</td>\n",
       "      <td>Charged Off</td>\n",
       "    </tr>\n",
       "    <tr>\n",
       "      <th>2</th>\n",
       "      <td>0.0</td>\n",
       "      <td>Fully Paid</td>\n",
       "    </tr>\n",
       "    <tr>\n",
       "      <th>3</th>\n",
       "      <td>0.0</td>\n",
       "      <td>Fully Paid</td>\n",
       "    </tr>\n",
       "    <tr>\n",
       "      <th>4</th>\n",
       "      <td>0.0</td>\n",
       "      <td>Current</td>\n",
       "    </tr>\n",
       "  </tbody>\n",
       "</table>\n",
       "</div>"
      ],
      "text/plain": [
       "   pub_rec_bankruptcies  loan_status\n",
       "0                   0.0   Fully Paid\n",
       "1                   0.0  Charged Off\n",
       "2                   0.0   Fully Paid\n",
       "3                   0.0   Fully Paid\n",
       "4                   0.0      Current"
      ]
     },
     "execution_count": 274,
     "metadata": {},
     "output_type": "execute_result"
    }
   ],
   "source": [
    "data_bankrup = data_loan.copy()\n",
    "data_bankrup  = data_bankrup[['pub_rec_bankruptcies','loan_status']]\n",
    "data_bankrup.head()"
   ]
  },
  {
   "cell_type": "code",
   "execution_count": 275,
   "id": "8890d21c",
   "metadata": {},
   "outputs": [
    {
     "data": {
      "text/plain": [
       "pub_rec_bankruptcies    697\n",
       "loan_status               0\n",
       "dtype: int64"
      ]
     },
     "execution_count": 275,
     "metadata": {},
     "output_type": "execute_result"
    }
   ],
   "source": [
    "data_bankrup.isnull().sum()  #checking null values"
   ]
  },
  {
   "cell_type": "code",
   "execution_count": 276,
   "id": "66809987",
   "metadata": {},
   "outputs": [
    {
     "data": {
      "text/html": [
       "<div>\n",
       "<style scoped>\n",
       "    .dataframe tbody tr th:only-of-type {\n",
       "        vertical-align: middle;\n",
       "    }\n",
       "\n",
       "    .dataframe tbody tr th {\n",
       "        vertical-align: top;\n",
       "    }\n",
       "\n",
       "    .dataframe thead th {\n",
       "        text-align: right;\n",
       "    }\n",
       "</style>\n",
       "<table border=\"1\" class=\"dataframe\">\n",
       "  <thead>\n",
       "    <tr style=\"text-align: right;\">\n",
       "      <th></th>\n",
       "      <th>pub_rec_bankruptcies</th>\n",
       "      <th>loan_status</th>\n",
       "    </tr>\n",
       "  </thead>\n",
       "  <tbody>\n",
       "    <tr>\n",
       "      <th>35006</th>\n",
       "      <td>NaN</td>\n",
       "      <td>Fully Paid</td>\n",
       "    </tr>\n",
       "    <tr>\n",
       "      <th>35058</th>\n",
       "      <td>NaN</td>\n",
       "      <td>Fully Paid</td>\n",
       "    </tr>\n",
       "    <tr>\n",
       "      <th>35362</th>\n",
       "      <td>NaN</td>\n",
       "      <td>Charged Off</td>\n",
       "    </tr>\n",
       "    <tr>\n",
       "      <th>38443</th>\n",
       "      <td>NaN</td>\n",
       "      <td>Fully Paid</td>\n",
       "    </tr>\n",
       "    <tr>\n",
       "      <th>38717</th>\n",
       "      <td>NaN</td>\n",
       "      <td>Fully Paid</td>\n",
       "    </tr>\n",
       "    <tr>\n",
       "      <th>...</th>\n",
       "      <td>...</td>\n",
       "      <td>...</td>\n",
       "    </tr>\n",
       "    <tr>\n",
       "      <th>39712</th>\n",
       "      <td>NaN</td>\n",
       "      <td>Fully Paid</td>\n",
       "    </tr>\n",
       "    <tr>\n",
       "      <th>39713</th>\n",
       "      <td>NaN</td>\n",
       "      <td>Fully Paid</td>\n",
       "    </tr>\n",
       "    <tr>\n",
       "      <th>39714</th>\n",
       "      <td>NaN</td>\n",
       "      <td>Fully Paid</td>\n",
       "    </tr>\n",
       "    <tr>\n",
       "      <th>39715</th>\n",
       "      <td>NaN</td>\n",
       "      <td>Fully Paid</td>\n",
       "    </tr>\n",
       "    <tr>\n",
       "      <th>39716</th>\n",
       "      <td>NaN</td>\n",
       "      <td>Fully Paid</td>\n",
       "    </tr>\n",
       "  </tbody>\n",
       "</table>\n",
       "<p>697 rows × 2 columns</p>\n",
       "</div>"
      ],
      "text/plain": [
       "       pub_rec_bankruptcies  loan_status\n",
       "35006                   NaN   Fully Paid\n",
       "35058                   NaN   Fully Paid\n",
       "35362                   NaN  Charged Off\n",
       "38443                   NaN   Fully Paid\n",
       "38717                   NaN   Fully Paid\n",
       "...                     ...          ...\n",
       "39712                   NaN   Fully Paid\n",
       "39713                   NaN   Fully Paid\n",
       "39714                   NaN   Fully Paid\n",
       "39715                   NaN   Fully Paid\n",
       "39716                   NaN   Fully Paid\n",
       "\n",
       "[697 rows x 2 columns]"
      ]
     },
     "execution_count": 276,
     "metadata": {},
     "output_type": "execute_result"
    }
   ],
   "source": [
    "data_bankrup[data_bankrup['pub_rec_bankruptcies'].isnull()]  #checking and analysing null values"
   ]
  },
  {
   "cell_type": "code",
   "execution_count": 277,
   "id": "7ff6f2d4",
   "metadata": {},
   "outputs": [],
   "source": [
    "data_bankrup.dropna(inplace = True)  #dropping null values"
   ]
  },
  {
   "cell_type": "code",
   "execution_count": 278,
   "id": "f893ec21",
   "metadata": {},
   "outputs": [
    {
     "data": {
      "text/plain": [
       "pub_rec_bankruptcies    0\n",
       "loan_status             0\n",
       "dtype: int64"
      ]
     },
     "execution_count": 278,
     "metadata": {},
     "output_type": "execute_result"
    }
   ],
   "source": [
    "data_bankrup.isnull().sum() #checking null values after dropping null values"
   ]
  },
  {
   "cell_type": "code",
   "execution_count": 279,
   "id": "e21a572c",
   "metadata": {},
   "outputs": [
    {
     "data": {
      "image/png": "[encoded data removed]",
      "text/plain": [
       "<Figure size 1440x720 with 1 Axes>"
      ]
     },
     "metadata": {
      "needs_background": "light"
     },
     "output_type": "display_data"
    }
   ],
   "source": [
    "stacked_chart(data_bankrup,'pub_rec_bankruptcies','loan_status')\n",
    "plt.title('pub_rec_bankruptcies count vs loan_status\\n')   #creating stacked chart for pub_rec_bankruptcies vs loan_status\n",
    "plt.ylabel('Count of pub_rec_bankruptcies')\n",
    "plt.show()"
   ]
  },
  {
   "cell_type": "code",
   "execution_count": 280,
   "id": "b01ce3c2",
   "metadata": {},
   "outputs": [
    {
     "data": {
      "text/html": [
       "<style type=\"text/css\">\n",
       "#T_70f60_row0_col0 {\n",
       "  background-color: #bcdcbc;\n",
       "  color: #000000;\n",
       "}\n",
       "#T_70f60_row1_col0 {\n",
       "  background-color: #ebf3eb;\n",
       "  color: #000000;\n",
       "}\n",
       "#T_70f60_row2_col0 {\n",
       "  background-color: #3a9c3a;\n",
       "  color: #f1f1f1;\n",
       "}\n",
       "#T_70f60_row3_col0 {\n",
       "  background-color: #008000;\n",
       "  color: #f1f1f1;\n",
       "}\n",
       "</style>\n",
       "<table id=\"T_70f60\">\n",
       "  <thead>\n",
       "    <tr>\n",
       "      <th class=\"blank level0\" >&nbsp;</th>\n",
       "      <th id=\"T_70f60_level0_col0\" class=\"col_heading level0 col0\" >pub_rec_bankruptcies</th>\n",
       "    </tr>\n",
       "    <tr>\n",
       "      <th class=\"index_name level0\" >loan_status</th>\n",
       "      <th class=\"blank col0\" >&nbsp;</th>\n",
       "    </tr>\n",
       "  </thead>\n",
       "  <tbody>\n",
       "    <tr>\n",
       "      <th id=\"T_70f60_level0_row0\" class=\"row_heading level0 row0\" >Charged Off</th>\n",
       "      <td id=\"T_70f60_row0_col0\" class=\"data row0 col0\" >370.000000</td>\n",
       "    </tr>\n",
       "    <tr>\n",
       "      <th id=\"T_70f60_level0_row1\" class=\"row_heading level0 row1\" >Current</th>\n",
       "      <td id=\"T_70f60_row1_col0\" class=\"data row1 col0\" >41.000000</td>\n",
       "    </tr>\n",
       "    <tr>\n",
       "      <th id=\"T_70f60_level0_row2\" class=\"row_heading level0 row2\" >Fully Paid</th>\n",
       "      <td id=\"T_70f60_row2_col0\" class=\"data row2 col0\" >1277.000000</td>\n",
       "    </tr>\n",
       "    <tr>\n",
       "      <th id=\"T_70f60_level0_row3\" class=\"row_heading level0 row3\" >All</th>\n",
       "      <td id=\"T_70f60_row3_col0\" class=\"data row3 col0\" >1688.000000</td>\n",
       "    </tr>\n",
       "  </tbody>\n",
       "</table>\n"
      ],
      "text/plain": [
       "<pandas.io.formats.style.Styler at 0x20ca95c8b20>"
      ]
     },
     "execution_count": 280,
     "metadata": {},
     "output_type": "execute_result"
    }
   ],
   "source": [
    "res = pd.pivot_table(data = data_loan, index = ['loan_status'], values = 'pub_rec_bankruptcies', aggfunc='sum', margins = True)\n",
    "cm = sns.light_palette(\"green\", as_cmap = True)\n",
    "res.style.background_gradient(cmap = cm)"
   ]
  },
  {
   "cell_type": "markdown",
   "id": "77a2c5f1",
   "metadata": {},
   "source": [
    "As we can see from the chart and pivot table that fully paid consumers have more public recorded bankruptcies which means few of the consumers who have fully paid the loan got bankrupted."
   ]
  },
  {
   "cell_type": "markdown",
   "id": "0c3f9079",
   "metadata": {},
   "source": [
    "##### Conclusion"
   ]
  },
  {
   "cell_type": "markdown",
   "id": "d8f867e7",
   "metadata": {},
   "source": [
    "Loan attributes: \n",
    "sub_grades, verification status,purpose, dti, inq_last_6mths, mths_since_last_delinq, mths_since_last_record, open_acc, revol_bal, revol_util, total_acc, recoveries, pub_rec_bankruptcies"
   ]
  }
 ],
 "metadata": {
  "kernelspec": {
   "display_name": "Python 3 (ipykernel)",
   "language": "python",
   "name": "python3"
  },
  "language_info": {
   "codemirror_mode": {
    "name": "ipython",
    "version": 3
   },
   "file_extension": ".py",
   "mimetype": "text/x-python",
   "name": "python",
   "nbconvert_exporter": "python",
   "pygments_lexer": "ipython3",
   "version": "3.9.12"
  }
 },
 "nbformat": 4,
 "nbformat_minor": 5
}
